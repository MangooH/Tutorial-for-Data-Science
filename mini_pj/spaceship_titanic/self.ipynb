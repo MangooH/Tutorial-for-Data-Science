{
  "cells": [
    {
      "cell_type": "markdown",
      "id": "8f3119aa",
      "metadata": {
        "id": "8f3119aa"
      },
      "source": [
        "### Spaceship Titanic은 titanic과 비슷한 상황이 1000년 이후에 벌어진 것을 말합니다. 이진 분류 모델을 XGBoost를 사용하여 모델링을 해보세요.\n",
        "\n",
        "- 데이터 링크 : https://drive.google.com/drive/folders/1UTft-BlveN5AUN5vMd2yoN4xzvvHRC5D?usp=drive_link\n",
        "\n",
        "- 데이터 설명 : https://www.kaggle.com/competitions/spaceship-titanic/data"
      ]
    },
    {
      "cell_type": "code",
      "execution_count": null,
      "id": "YLD1fbK_YdhW",
      "metadata": {
        "id": "YLD1fbK_YdhW"
      },
      "outputs": [],
      "source": [
        "# from google.colab import drive\n",
        "# drive.mount('/content/drive')"
      ]
    },
    {
      "cell_type": "markdown",
      "id": "bd2f7530",
      "metadata": {
        "id": "bd2f7530"
      },
      "source": [
        "## 1. 라이브러리, 데이터 불러오기"
      ]
    },
    {
      "cell_type": "code",
      "execution_count": 5,
      "id": "125fc348",
      "metadata": {
        "id": "125fc348"
      },
      "outputs": [],
      "source": [
        "# 데이터분석 4종 세트\n",
        "import numpy as np\n",
        "import pandas as pd\n",
        "import matplotlib as mpl\n",
        "import matplotlib.pyplot as plt\n",
        "import seaborn as sns\n",
        "sns.set_theme(style=\"dark\", context=\"notebook\")\n",
        "\n",
        "import os\n",
        "import random\n",
        "\n",
        "from xgboost import XGBClassifier\n",
        "from sklearn.metrics import accuracy_score\n",
        "\n",
        "from sklearn.model_selection import train_test_split"
      ]
    },
    {
      "cell_type": "code",
      "execution_count": 153,
      "id": "3615c24a",
      "metadata": {
        "id": "3615c24a"
      },
      "outputs": [],
      "source": [
        "# 데이터를 불러옵니다.\n",
        "train = pd.read_csv('./data/train.csv')\n",
        "test = pd.read_csv('./data/test.csv')"
      ]
    },
    {
      "cell_type": "markdown",
      "id": "8b23203a",
      "metadata": {},
      "source": [
        "### 데이터 상세\n",
        "- `PassengerId`\n",
        "    - 형태 **gggg_pp**\n",
        "    - **gggg** 는 여행 중인 승객 그룹을 의미하며, 가족이 속해있을 수 있다.\n",
        "    - **pp** 개별 번호\n",
        "- `HomePlanet`\n",
        "    - 출발 행성\n",
        "- `CryoSleep`\n",
        "    - 냉동 수면 상태를 나타냄.\n",
        "    - 냉동 수면 상태의 승객들은 cabin 에 있다.\n",
        "- `Cabin`\n",
        "    - 승객이 머무르는 cabin 의 번호\n",
        "    - **deck/num/side** 의 형태\n",
        "    - **side** 는 P or S\n",
        "- `Destination`\n",
        "    - 승객이 하차하는 행성\n",
        "- `Age`\n",
        "    - 승객의 나이\n",
        "- `VIP`\n",
        "    - 항해 동안 승객이 VIP 서비스를 지불했는지를 나타냄\n",
        "- `RoomService, FoodCourt, ShoppingMall, Spa, VRDeck`\n",
        "    - luxury amenities 에 지불한 정도\n",
        "- `Name`\n",
        "- `Transported`\n",
        "    - Target (다른 행성으로 이동되었는가)"
      ]
    },
    {
      "cell_type": "markdown",
      "id": "c9c9acb8",
      "metadata": {
        "id": "c9c9acb8"
      },
      "source": [
        "## 2. EDA"
      ]
    },
    {
      "cell_type": "markdown",
      "id": "6fdf620b",
      "metadata": {
        "id": "6fdf620b"
      },
      "source": [
        "- 데이터에서 찾아야 하는 기초적인 내용들을 확인합니다.\n",
        "\n",
        "\n",
        "- 데이터 설명을 자세히 읽고, feature engineering에 필요한 여러가지 특징들을 찾아봅시다."
      ]
    },
    {
      "cell_type": "code",
      "execution_count": 154,
      "id": "80f8957d",
      "metadata": {},
      "outputs": [
        {
          "name": "stdout",
          "output_type": "stream",
          "text": [
            "<class 'pandas.core.frame.DataFrame'>\n",
            "RangeIndex: 8693 entries, 0 to 8692\n",
            "Data columns (total 14 columns):\n",
            " #   Column        Non-Null Count  Dtype  \n",
            "---  ------        --------------  -----  \n",
            " 0   PassengerId   8693 non-null   object \n",
            " 1   HomePlanet    8492 non-null   object \n",
            " 2   CryoSleep     8476 non-null   object \n",
            " 3   Cabin         8494 non-null   object \n",
            " 4   Destination   8511 non-null   object \n",
            " 5   Age           8514 non-null   float64\n",
            " 6   VIP           8490 non-null   object \n",
            " 7   RoomService   8512 non-null   float64\n",
            " 8   FoodCourt     8510 non-null   float64\n",
            " 9   ShoppingMall  8485 non-null   float64\n",
            " 10  Spa           8510 non-null   float64\n",
            " 11  VRDeck        8505 non-null   float64\n",
            " 12  Name          8493 non-null   object \n",
            " 13  Transported   8693 non-null   bool   \n",
            "dtypes: bool(1), float64(6), object(7)\n",
            "memory usage: 891.5+ KB\n",
            "------------------Object Columns--------------------\n",
            "Index(['PassengerId', 'HomePlanet', 'CryoSleep', 'Cabin', 'Destination', 'VIP',\n",
            "       'Name'],\n",
            "      dtype='object')\n",
            "---------------Target Imbalance Check---------------\n"
          ]
        },
        {
          "data": {
            "text/plain": [
              "Transported\n",
              "True     4378\n",
              "False    4315\n",
              "Name: count, dtype: int64"
            ]
          },
          "execution_count": 154,
          "metadata": {},
          "output_type": "execute_result"
        }
      ],
      "source": [
        "## 1. 결측치 체크  --> 특정 column이 많은 결측치를 포함하고 있는지!\n",
        "# -> 'PassengerId' 와 'Transported' 를 제외한 모든 columns 가 결측치를 포함함\n",
        "train.info()\n",
        "## 2. dtype이 object인 column들 체크 (str)\n",
        "# -> 'PassengerId', 'HomePlanet', 'CryoSleep', 'Cabin', 'Destination', 'VIP', 'Name'\n",
        "print('------------------Object Columns--------------------')\n",
        "print(train.columns[train.dtypes == 'object'])\n",
        "## 3. target value 정보를 체크 -----> class imbalance 체크! (이진분류) 10:1 이상인 경우\n",
        "# -> 약 5:5 \n",
        "print('---------------Target Imbalance Check---------------')\n",
        "train.Transported.value_counts()"
      ]
    },
    {
      "cell_type": "code",
      "execution_count": 155,
      "id": "8cba8093",
      "metadata": {},
      "outputs": [
        {
          "data": {
            "text/html": [
              "<div>\n",
              "<style scoped>\n",
              "    .dataframe tbody tr th:only-of-type {\n",
              "        vertical-align: middle;\n",
              "    }\n",
              "\n",
              "    .dataframe tbody tr th {\n",
              "        vertical-align: top;\n",
              "    }\n",
              "\n",
              "    .dataframe thead th {\n",
              "        text-align: right;\n",
              "    }\n",
              "</style>\n",
              "<table border=\"1\" class=\"dataframe\">\n",
              "  <thead>\n",
              "    <tr style=\"text-align: right;\">\n",
              "      <th></th>\n",
              "      <th>PassengerId</th>\n",
              "      <th>HomePlanet</th>\n",
              "      <th>CryoSleep</th>\n",
              "      <th>Cabin</th>\n",
              "      <th>Destination</th>\n",
              "      <th>Age</th>\n",
              "      <th>VIP</th>\n",
              "      <th>RoomService</th>\n",
              "      <th>FoodCourt</th>\n",
              "      <th>ShoppingMall</th>\n",
              "      <th>Spa</th>\n",
              "      <th>VRDeck</th>\n",
              "      <th>Name</th>\n",
              "      <th>Transported</th>\n",
              "    </tr>\n",
              "  </thead>\n",
              "  <tbody>\n",
              "    <tr>\n",
              "      <th>0</th>\n",
              "      <td>0001_01</td>\n",
              "      <td>Europa</td>\n",
              "      <td>False</td>\n",
              "      <td>B/0/P</td>\n",
              "      <td>TRAPPIST-1e</td>\n",
              "      <td>39.0</td>\n",
              "      <td>False</td>\n",
              "      <td>0.0</td>\n",
              "      <td>0.0</td>\n",
              "      <td>0.0</td>\n",
              "      <td>0.0</td>\n",
              "      <td>0.0</td>\n",
              "      <td>Maham Ofracculy</td>\n",
              "      <td>False</td>\n",
              "    </tr>\n",
              "    <tr>\n",
              "      <th>1</th>\n",
              "      <td>0002_01</td>\n",
              "      <td>Earth</td>\n",
              "      <td>False</td>\n",
              "      <td>F/0/S</td>\n",
              "      <td>TRAPPIST-1e</td>\n",
              "      <td>24.0</td>\n",
              "      <td>False</td>\n",
              "      <td>109.0</td>\n",
              "      <td>9.0</td>\n",
              "      <td>25.0</td>\n",
              "      <td>549.0</td>\n",
              "      <td>44.0</td>\n",
              "      <td>Juanna Vines</td>\n",
              "      <td>True</td>\n",
              "    </tr>\n",
              "    <tr>\n",
              "      <th>2</th>\n",
              "      <td>0003_01</td>\n",
              "      <td>Europa</td>\n",
              "      <td>False</td>\n",
              "      <td>A/0/S</td>\n",
              "      <td>TRAPPIST-1e</td>\n",
              "      <td>58.0</td>\n",
              "      <td>True</td>\n",
              "      <td>43.0</td>\n",
              "      <td>3576.0</td>\n",
              "      <td>0.0</td>\n",
              "      <td>6715.0</td>\n",
              "      <td>49.0</td>\n",
              "      <td>Altark Susent</td>\n",
              "      <td>False</td>\n",
              "    </tr>\n",
              "    <tr>\n",
              "      <th>3</th>\n",
              "      <td>0003_02</td>\n",
              "      <td>Europa</td>\n",
              "      <td>False</td>\n",
              "      <td>A/0/S</td>\n",
              "      <td>TRAPPIST-1e</td>\n",
              "      <td>33.0</td>\n",
              "      <td>False</td>\n",
              "      <td>0.0</td>\n",
              "      <td>1283.0</td>\n",
              "      <td>371.0</td>\n",
              "      <td>3329.0</td>\n",
              "      <td>193.0</td>\n",
              "      <td>Solam Susent</td>\n",
              "      <td>False</td>\n",
              "    </tr>\n",
              "    <tr>\n",
              "      <th>4</th>\n",
              "      <td>0004_01</td>\n",
              "      <td>Earth</td>\n",
              "      <td>False</td>\n",
              "      <td>F/1/S</td>\n",
              "      <td>TRAPPIST-1e</td>\n",
              "      <td>16.0</td>\n",
              "      <td>False</td>\n",
              "      <td>303.0</td>\n",
              "      <td>70.0</td>\n",
              "      <td>151.0</td>\n",
              "      <td>565.0</td>\n",
              "      <td>2.0</td>\n",
              "      <td>Willy Santantines</td>\n",
              "      <td>True</td>\n",
              "    </tr>\n",
              "  </tbody>\n",
              "</table>\n",
              "</div>"
            ],
            "text/plain": [
              "  PassengerId HomePlanet CryoSleep  Cabin  Destination   Age    VIP  \\\n",
              "0     0001_01     Europa     False  B/0/P  TRAPPIST-1e  39.0  False   \n",
              "1     0002_01      Earth     False  F/0/S  TRAPPIST-1e  24.0  False   \n",
              "2     0003_01     Europa     False  A/0/S  TRAPPIST-1e  58.0   True   \n",
              "3     0003_02     Europa     False  A/0/S  TRAPPIST-1e  33.0  False   \n",
              "4     0004_01      Earth     False  F/1/S  TRAPPIST-1e  16.0  False   \n",
              "\n",
              "   RoomService  FoodCourt  ShoppingMall     Spa  VRDeck               Name  \\\n",
              "0          0.0        0.0           0.0     0.0     0.0    Maham Ofracculy   \n",
              "1        109.0        9.0          25.0   549.0    44.0       Juanna Vines   \n",
              "2         43.0     3576.0           0.0  6715.0    49.0      Altark Susent   \n",
              "3          0.0     1283.0         371.0  3329.0   193.0       Solam Susent   \n",
              "4        303.0       70.0         151.0   565.0     2.0  Willy Santantines   \n",
              "\n",
              "   Transported  \n",
              "0        False  \n",
              "1         True  \n",
              "2        False  \n",
              "3        False  \n",
              "4         True  "
            ]
          },
          "execution_count": 155,
          "metadata": {},
          "output_type": "execute_result"
        }
      ],
      "source": [
        "train.head()"
      ]
    },
    {
      "cell_type": "markdown",
      "id": "1bf9c7c4",
      "metadata": {},
      "source": [
        "### Numerical -> Categorical\n",
        "- 앞서 Cabin 의 number, Amenities, Age 등 숫자와 관련된 데이터를 모두 삭제했더니 성능이 너무 떨어지는 현상이 생김\n",
        "- Name 처럼 처리하기 힘든 것도 전부 삭제해버림\n",
        "\n",
        "#### Numerical Values\n",
        "- `Age`\n",
        "- `Cabin_Num`\n",
        "- `Amenities`"
      ]
    },
    {
      "cell_type": "markdown",
      "id": "d4221f63",
      "metadata": {},
      "source": [
        "##### Age"
      ]
    },
    {
      "cell_type": "code",
      "execution_count": 156,
      "id": "6d0b515f",
      "metadata": {},
      "outputs": [],
      "source": [
        "# Age 결측치 처리\n",
        "train['Age'] = train['Age'].fillna(train['Age'].median())\n",
        "test['Age'] = test['Age'].fillna(train['Age'].median())"
      ]
    },
    {
      "cell_type": "code",
      "execution_count": 157,
      "id": "04dcfad9",
      "metadata": {},
      "outputs": [
        {
          "data": {
            "text/plain": [
              "<Axes: xlabel='Age', ylabel='Count'>"
            ]
          },
          "execution_count": 157,
          "metadata": {},
          "output_type": "execute_result"
        },
        {
          "data": {
            "image/png": "[encoded data removed]",
            "text/plain": [
              "<Figure size 640x480 with 1 Axes>"
            ]
          },
          "metadata": {},
          "output_type": "display_data"
        }
      ],
      "source": [
        "sns.histplot(train, x='Age', hue='Transported')"
      ]
    },
    {
      "cell_type": "markdown",
      "id": "64ec08c3",
      "metadata": {},
      "source": [
        "- `0~18` : **True < False** -> 0\n",
        "- `19~34` : **False > True** -> 1\n",
        "- `35~`: 비슷함 -> 2"
      ]
    },
    {
      "cell_type": "code",
      "execution_count": 158,
      "id": "0bb36164",
      "metadata": {},
      "outputs": [],
      "source": [
        "# Age 처리\n",
        "train['Age_Category'] = np.nan\n",
        "train.loc[train['Age'] <= 18, 'Age_Category'] = 0\n",
        "train.loc[(18 < train['Age']) & (train['Age'] <= 34), 'Age_Category'] = 1\n",
        "train.loc[34 < train['Age'], 'Age_Category'] = 2\n",
        "\n",
        "train['Age_Category'] = np.nan\n",
        "train.loc[train['Age'] <= 18, 'Age_Category'] = 0\n",
        "train.loc[(18 < train['Age']) & (train['Age'] <= 34), 'Age_Category'] = 1\n",
        "train.loc[34 < train['Age'], 'Age_Category'] = 2\n",
        "\n",
        "train.drop(columns='Age', inplace=True)\n",
        "test.drop(columns='Age', inplace=True)"
      ]
    },
    {
      "cell_type": "code",
      "execution_count": 159,
      "id": "6de7141b",
      "metadata": {},
      "outputs": [
        {
          "data": {
            "text/plain": [
              "[Text(0, 0, '0.0'), Text(1, 0, '1.0'), Text(2, 0, '2.0')]"
            ]
          },
          "execution_count": 159,
          "metadata": {},
          "output_type": "execute_result"
        },
        {
          "data": {
            "image/png": "[encoded data removed]",
            "text/plain": [
              "<Figure size 400x500 with 1 Axes>"
            ]
          },
          "metadata": {},
          "output_type": "display_data"
        }
      ],
      "source": [
        "plt.figure(figsize=(4, 5))\n",
        "ax = sns.histplot(data=train, x='Age_Category', hue='Transported')\n",
        "ax.set_xticks([0, 1, 2])\n",
        "ax.set_xticklabels(['0.0', '1.0', '2.0'])"
      ]
    },
    {
      "cell_type": "markdown",
      "id": "a5aa920d",
      "metadata": {},
      "source": [
        "- `0`: True 강세\n",
        "- `1`: False 강세\n",
        "- `2`: 비슷"
      ]
    },
    {
      "cell_type": "markdown",
      "id": "b36e877d",
      "metadata": {},
      "source": [
        "##### Amenities"
      ]
    },
    {
      "cell_type": "code",
      "execution_count": 160,
      "id": "1e676188",
      "metadata": {},
      "outputs": [
        {
          "data": {
            "text/plain": [
              "<Axes: xlabel='VRDeck', ylabel='Count'>"
            ]
          },
          "execution_count": 160,
          "metadata": {},
          "output_type": "execute_result"
        },
        {
          "data": {
            "image/png": "[encoded data removed]",
            "text/plain": [
              "<Figure size 2000x400 with 5 Axes>"
            ]
          },
          "metadata": {},
          "output_type": "display_data"
        }
      ],
      "source": [
        "f, (ax1, ax2, ax3, ax4, ax5) = plt.subplots(1, 5, figsize=(20, 4))\n",
        "sns.histplot(train, x='RoomService', hue='Transported', ax=ax1, bins=40)\n",
        "sns.histplot(train, x='FoodCourt', hue='Transported', ax=ax2, bins=40)\n",
        "sns.histplot(train, x='ShoppingMall', hue='Transported', ax=ax3, bins=40)\n",
        "sns.histplot(train, x='Spa', hue='Transported', ax=ax4, bins=40)\n",
        "sns.histplot(train, x='VRDeck', hue='Transported', ax=ax5, bins=40)\n",
        "    "
      ]
    },
    {
      "cell_type": "markdown",
      "id": "a0e795cc",
      "metadata": {},
      "source": [
        "- 0 이 너무 많다. $\\rightarrow$ Nan 값은 0으로 채우고, 아무런 지출을 안한 경우인 `Free` column 추가\n",
        "- 15000 ~ 30000도 넘는 이상값이 존재함 $\\rightarrow$ log ?"
      ]
    },
    {
      "cell_type": "code",
      "execution_count": 161,
      "id": "522936b9",
      "metadata": {},
      "outputs": [],
      "source": [
        "amenities = ['RoomService', 'FoodCourt', 'ShoppingMall', 'Spa', 'VRDeck']\n",
        "### NaN -> 0.0\n",
        "train[amenities] = train[amenities].fillna(value=0.0)\n",
        "test[amenities] = test[amenities].fillna(value=0.0)\n",
        "\n",
        "### Free column\n",
        "train['Total_Amenities'] = train[amenities].sum(axis=1)\n",
        "train['Free'] = train['Total_Amenities'].apply(lambda x: 1 if not x else 0)\n",
        "test['Total_Amenities'] = test[amenities].sum(axis=1)\n",
        "test['Free'] = test['Total_Amenities'].apply(lambda x: 1 if not x else 0)"
      ]
    },
    {
      "cell_type": "code",
      "execution_count": 162,
      "id": "aad77382",
      "metadata": {},
      "outputs": [
        {
          "data": {
            "text/plain": [
              "<Axes: xlabel='Total_Amenities', ylabel='Count'>"
            ]
          },
          "execution_count": 162,
          "metadata": {},
          "output_type": "execute_result"
        },
        {
          "data": {
            "image/png": "[encoded data removed]",
            "text/plain": [
              "<Figure size 640x480 with 1 Axes>"
            ]
          },
          "metadata": {},
          "output_type": "display_data"
        }
      ],
      "source": [
        "sns.histplot(train, x='Total_Amenities', hue='Transported',bins=30)"
      ]
    },
    {
      "cell_type": "markdown",
      "id": "bed91dcd",
      "metadata": {},
      "source": [
        "$\\rightarrow$ 지출이 0인것과 아닌 것의 Transported 형성에 차이가 있다."
      ]
    },
    {
      "cell_type": "code",
      "execution_count": 163,
      "id": "046a75f6",
      "metadata": {},
      "outputs": [
        {
          "data": {
            "text/plain": [
              "[Text(0, 0, '0'), Text(1, 0, '1')]"
            ]
          },
          "execution_count": 163,
          "metadata": {},
          "output_type": "execute_result"
        },
        {
          "data": {
            "image/png": "[encoded data removed]",
            "text/plain": [
              "<Figure size 640x480 with 1 Axes>"
            ]
          },
          "metadata": {},
          "output_type": "display_data"
        }
      ],
      "source": [
        "\n",
        "ax = sns.countplot(data=train, x='Free', hue='Transported')\n",
        "ax.set_xticks([0, 1])\n",
        "ax.set_xticklabels(['0', '1'])\n"
      ]
    },
    {
      "cell_type": "markdown",
      "id": "d026fc10",
      "metadata": {},
      "source": [
        "##### Cabin"
      ]
    },
    {
      "cell_type": "code",
      "execution_count": 164,
      "id": "f637fefe",
      "metadata": {},
      "outputs": [
        {
          "data": {
            "text/html": [
              "<div>\n",
              "<style scoped>\n",
              "    .dataframe tbody tr th:only-of-type {\n",
              "        vertical-align: middle;\n",
              "    }\n",
              "\n",
              "    .dataframe tbody tr th {\n",
              "        vertical-align: top;\n",
              "    }\n",
              "\n",
              "    .dataframe thead th {\n",
              "        text-align: right;\n",
              "    }\n",
              "</style>\n",
              "<table border=\"1\" class=\"dataframe\">\n",
              "  <thead>\n",
              "    <tr style=\"text-align: right;\">\n",
              "      <th></th>\n",
              "      <th>PassengerId</th>\n",
              "      <th>HomePlanet</th>\n",
              "      <th>CryoSleep</th>\n",
              "      <th>Cabin</th>\n",
              "      <th>Destination</th>\n",
              "      <th>VIP</th>\n",
              "      <th>RoomService</th>\n",
              "      <th>FoodCourt</th>\n",
              "      <th>ShoppingMall</th>\n",
              "      <th>Spa</th>\n",
              "      <th>VRDeck</th>\n",
              "      <th>Name</th>\n",
              "      <th>Transported</th>\n",
              "      <th>Age_Category</th>\n",
              "      <th>Total_Amenities</th>\n",
              "      <th>Free</th>\n",
              "    </tr>\n",
              "  </thead>\n",
              "  <tbody>\n",
              "    <tr>\n",
              "      <th>0</th>\n",
              "      <td>0001_01</td>\n",
              "      <td>Europa</td>\n",
              "      <td>False</td>\n",
              "      <td>B/0/P</td>\n",
              "      <td>TRAPPIST-1e</td>\n",
              "      <td>False</td>\n",
              "      <td>0.0</td>\n",
              "      <td>0.0</td>\n",
              "      <td>0.0</td>\n",
              "      <td>0.0</td>\n",
              "      <td>0.0</td>\n",
              "      <td>Maham Ofracculy</td>\n",
              "      <td>False</td>\n",
              "      <td>2.0</td>\n",
              "      <td>0.0</td>\n",
              "      <td>1</td>\n",
              "    </tr>\n",
              "    <tr>\n",
              "      <th>1</th>\n",
              "      <td>0002_01</td>\n",
              "      <td>Earth</td>\n",
              "      <td>False</td>\n",
              "      <td>F/0/S</td>\n",
              "      <td>TRAPPIST-1e</td>\n",
              "      <td>False</td>\n",
              "      <td>109.0</td>\n",
              "      <td>9.0</td>\n",
              "      <td>25.0</td>\n",
              "      <td>549.0</td>\n",
              "      <td>44.0</td>\n",
              "      <td>Juanna Vines</td>\n",
              "      <td>True</td>\n",
              "      <td>1.0</td>\n",
              "      <td>736.0</td>\n",
              "      <td>0</td>\n",
              "    </tr>\n",
              "    <tr>\n",
              "      <th>2</th>\n",
              "      <td>0003_01</td>\n",
              "      <td>Europa</td>\n",
              "      <td>False</td>\n",
              "      <td>A/0/S</td>\n",
              "      <td>TRAPPIST-1e</td>\n",
              "      <td>True</td>\n",
              "      <td>43.0</td>\n",
              "      <td>3576.0</td>\n",
              "      <td>0.0</td>\n",
              "      <td>6715.0</td>\n",
              "      <td>49.0</td>\n",
              "      <td>Altark Susent</td>\n",
              "      <td>False</td>\n",
              "      <td>2.0</td>\n",
              "      <td>10383.0</td>\n",
              "      <td>0</td>\n",
              "    </tr>\n",
              "    <tr>\n",
              "      <th>3</th>\n",
              "      <td>0003_02</td>\n",
              "      <td>Europa</td>\n",
              "      <td>False</td>\n",
              "      <td>A/0/S</td>\n",
              "      <td>TRAPPIST-1e</td>\n",
              "      <td>False</td>\n",
              "      <td>0.0</td>\n",
              "      <td>1283.0</td>\n",
              "      <td>371.0</td>\n",
              "      <td>3329.0</td>\n",
              "      <td>193.0</td>\n",
              "      <td>Solam Susent</td>\n",
              "      <td>False</td>\n",
              "      <td>1.0</td>\n",
              "      <td>5176.0</td>\n",
              "      <td>0</td>\n",
              "    </tr>\n",
              "    <tr>\n",
              "      <th>4</th>\n",
              "      <td>0004_01</td>\n",
              "      <td>Earth</td>\n",
              "      <td>False</td>\n",
              "      <td>F/1/S</td>\n",
              "      <td>TRAPPIST-1e</td>\n",
              "      <td>False</td>\n",
              "      <td>303.0</td>\n",
              "      <td>70.0</td>\n",
              "      <td>151.0</td>\n",
              "      <td>565.0</td>\n",
              "      <td>2.0</td>\n",
              "      <td>Willy Santantines</td>\n",
              "      <td>True</td>\n",
              "      <td>0.0</td>\n",
              "      <td>1091.0</td>\n",
              "      <td>0</td>\n",
              "    </tr>\n",
              "  </tbody>\n",
              "</table>\n",
              "</div>"
            ],
            "text/plain": [
              "  PassengerId HomePlanet CryoSleep  Cabin  Destination    VIP  RoomService  \\\n",
              "0     0001_01     Europa     False  B/0/P  TRAPPIST-1e  False          0.0   \n",
              "1     0002_01      Earth     False  F/0/S  TRAPPIST-1e  False        109.0   \n",
              "2     0003_01     Europa     False  A/0/S  TRAPPIST-1e   True         43.0   \n",
              "3     0003_02     Europa     False  A/0/S  TRAPPIST-1e  False          0.0   \n",
              "4     0004_01      Earth     False  F/1/S  TRAPPIST-1e  False        303.0   \n",
              "\n",
              "   FoodCourt  ShoppingMall     Spa  VRDeck               Name  Transported  \\\n",
              "0        0.0           0.0     0.0     0.0    Maham Ofracculy        False   \n",
              "1        9.0          25.0   549.0    44.0       Juanna Vines         True   \n",
              "2     3576.0           0.0  6715.0    49.0      Altark Susent        False   \n",
              "3     1283.0         371.0  3329.0   193.0       Solam Susent        False   \n",
              "4       70.0         151.0   565.0     2.0  Willy Santantines         True   \n",
              "\n",
              "   Age_Category  Total_Amenities  Free  \n",
              "0           2.0              0.0     1  \n",
              "1           1.0            736.0     0  \n",
              "2           2.0          10383.0     0  \n",
              "3           1.0           5176.0     0  \n",
              "4           0.0           1091.0     0  "
            ]
          },
          "execution_count": 164,
          "metadata": {},
          "output_type": "execute_result"
        }
      ],
      "source": [
        "train.head()"
      ]
    },
    {
      "cell_type": "code",
      "execution_count": 165,
      "id": "47b7aecb",
      "metadata": {},
      "outputs": [],
      "source": [
        "# NaN 때문에 Split 이 안됨.\n",
        "train['Cabin'] = train['Cabin'].fillna('NaN/NaN/NaN')\n",
        "test['Cabin'] = test['Cabin'].fillna('NaN/NaN/NaN')\n",
        "\n",
        "train[['Cabin_deck', 'Cabin_num', 'Cabin_side']] = train['Cabin'].str.split('/', expand=True)\n",
        "train.replace({'Cabin_deck': 'NaN', 'Cabin_num': 'NaN', 'Cabin_side': 'NaN'}, np.nan, inplace=True)\n",
        "train['Cabin_num'] = train['Cabin_num'].fillna(10000)\n",
        "train['Cabin_num'] = train['Cabin_num'].astype(int)\n",
        "train['Cabin_num'].replace(10000, np.nan, inplace=True)\n",
        "\n",
        "test[['Cabin_deck', 'Cabin_num', 'Cabin_side']] = test['Cabin'].str.split('/', expand=True)\n",
        "test.replace({'Cabin_deck': 'NaN', 'Cabin_num': 'NaN', 'Cabin_side': 'NaN'}, np.nan, inplace=True)\n",
        "test['Cabin_num'] = test['Cabin_num'].fillna(10000)\n",
        "test['Cabin_num'] = test['Cabin_num'].astype(int)\n",
        "test['Cabin_num'].replace(10000, np.nan, inplace=True)\n",
        "\n",
        "train.drop(columns='Cabin', inplace=True)\n",
        "test.drop(columns='Cabin', inplace=True)"
      ]
    },
    {
      "cell_type": "markdown",
      "id": "02f0941f",
      "metadata": {},
      "source": [
        "`Cabin_deck`"
      ]
    },
    {
      "cell_type": "code",
      "execution_count": 166,
      "id": "11313f7a",
      "metadata": {},
      "outputs": [
        {
          "data": {
            "text/plain": [
              "<Axes: xlabel='Cabin_deck', ylabel='Count'>"
            ]
          },
          "execution_count": 166,
          "metadata": {},
          "output_type": "execute_result"
        },
        {
          "data": {
            "image/png": "[encoded data removed]",
            "text/plain": [
              "<Figure size 640x480 with 1 Axes>"
            ]
          },
          "metadata": {},
          "output_type": "display_data"
        }
      ],
      "source": [
        "sns.histplot(train, x='Cabin_deck', hue='Transported')"
      ]
    },
    {
      "cell_type": "markdown",
      "id": "f74c6769",
      "metadata": {},
      "source": [
        "무슨관계일까 ?\n",
        "- **A, B, C, G**\n",
        "- **D, E, F**"
      ]
    },
    {
      "cell_type": "markdown",
      "id": "f7f317ec",
      "metadata": {},
      "source": [
        "`Cabin_num`"
      ]
    },
    {
      "cell_type": "code",
      "execution_count": 167,
      "id": "d7f35de8",
      "metadata": {},
      "outputs": [
        {
          "data": {
            "text/plain": [
              "<matplotlib.collections.LineCollection at 0x1f3a2a09790>"
            ]
          },
          "execution_count": 167,
          "metadata": {},
          "output_type": "execute_result"
        },
        {
          "data": {
            "image/png": "[encoded data removed]",
            "text/plain": [
              "<Figure size 1800x600 with 1 Axes>"
            ]
          },
          "metadata": {},
          "output_type": "display_data"
        }
      ],
      "source": [
        "plt.figure(figsize=(18, 6))\n",
        "sns.histplot(train, x='Cabin_num', hue='Transported', bins=40)\n",
        "plt.vlines(332, 0, 350)\n",
        "plt.vlines(615, 0, 350)\n",
        "plt.vlines(1185, 0, 350)\n",
        "plt.vlines(1515, 0, 350)"
      ]
    },
    {
      "cell_type": "code",
      "execution_count": 168,
      "id": "c2ca40ea",
      "metadata": {},
      "outputs": [],
      "source": [
        "# Cabin_num 처리\n",
        "train['Cabin_num_category'] = np.nan\n",
        "train.loc[train['Cabin_num'] <= 332, 'Cabin_num_category'] = 0\n",
        "train.loc[(332 < train['Cabin_num']) & (train['Cabin_num'] <= 615), 'Cabin_num_category'] = 1\n",
        "train.loc[(615 < train['Cabin_num']) & (train['Cabin_num'] <= 1185), 'Cabin_num_category'] = 2\n",
        "train.loc[(1185 < train['Cabin_num']) & (train['Cabin_num'] <= 1515), 'Cabin_num_category'] = 3\n",
        "train.loc[1515 < train['Cabin_num'], 'Cabin_num_category'] = 4\n",
        "\n",
        "test['Cabin_num_category'] = np.nan\n",
        "test.loc[test['Cabin_num'] <= 332, 'Cabin_num_category'] = 0\n",
        "test.loc[(332 < test['Cabin_num']) & (test['Cabin_num'] <= 615), 'Cabin_num_category'] = 1\n",
        "test.loc[(615 < test['Cabin_num']) & (test['Cabin_num'] <= 1185), 'Cabin_num_category'] = 2\n",
        "test.loc[(1185 < test['Cabin_num']) & (test['Cabin_num'] <= 1515), 'Cabin_num_category'] = 3\n",
        "test.loc[1515 < test['Cabin_num'], 'Cabin_num_category'] = 4\n",
        "\n",
        "train.drop(columns='Cabin_num', inplace=True)\n",
        "test.drop(columns='Cabin_num', inplace=True)"
      ]
    },
    {
      "cell_type": "code",
      "execution_count": 169,
      "id": "22fd4eb2",
      "metadata": {},
      "outputs": [
        {
          "data": {
            "text/plain": [
              "<Axes: xlabel='Cabin_side', ylabel='Count'>"
            ]
          },
          "execution_count": 169,
          "metadata": {},
          "output_type": "execute_result"
        },
        {
          "data": {
            "image/png": "[encoded data removed]",
            "text/plain": [
              "<Figure size 640x480 with 1 Axes>"
            ]
          },
          "metadata": {},
          "output_type": "display_data"
        }
      ],
      "source": [
        "sns.histplot(train, x='Cabin_side', hue='Transported')"
      ]
    },
    {
      "cell_type": "markdown",
      "id": "f47af59a",
      "metadata": {},
      "source": [
        "#### Numerical 끝"
      ]
    },
    {
      "cell_type": "code",
      "execution_count": 170,
      "id": "20d5c145",
      "metadata": {},
      "outputs": [
        {
          "name": "stdout",
          "output_type": "stream",
          "text": [
            "<class 'pandas.core.frame.DataFrame'>\n",
            "RangeIndex: 8693 entries, 0 to 8692\n",
            "Data columns (total 18 columns):\n",
            " #   Column              Non-Null Count  Dtype  \n",
            "---  ------              --------------  -----  \n",
            " 0   PassengerId         8693 non-null   object \n",
            " 1   HomePlanet          8492 non-null   object \n",
            " 2   CryoSleep           8476 non-null   object \n",
            " 3   Destination         8511 non-null   object \n",
            " 4   VIP                 8490 non-null   object \n",
            " 5   RoomService         8693 non-null   float64\n",
            " 6   FoodCourt           8693 non-null   float64\n",
            " 7   ShoppingMall        8693 non-null   float64\n",
            " 8   Spa                 8693 non-null   float64\n",
            " 9   VRDeck              8693 non-null   float64\n",
            " 10  Name                8493 non-null   object \n",
            " 11  Transported         8693 non-null   bool   \n",
            " 12  Age_Category        8693 non-null   float64\n",
            " 13  Total_Amenities     8693 non-null   float64\n",
            " 14  Free                8693 non-null   int64  \n",
            " 15  Cabin_deck          8494 non-null   object \n",
            " 16  Cabin_side          8494 non-null   object \n",
            " 17  Cabin_num_category  8494 non-null   float64\n",
            "dtypes: bool(1), float64(8), int64(1), object(8)\n",
            "memory usage: 1.1+ MB\n"
          ]
        }
      ],
      "source": [
        "train.info()"
      ]
    },
    {
      "cell_type": "markdown",
      "id": "656794de",
      "metadata": {},
      "source": [
        "- `HomePlanet`\n",
        "- `CryoSleep`\n",
        "- `Destination`\n",
        "- `VIP`\n",
        "- `Name` -> 버리자\n",
        "- `Cabin`s"
      ]
    },
    {
      "cell_type": "markdown",
      "id": "d31f28e3",
      "metadata": {},
      "source": [
        "`Name`"
      ]
    },
    {
      "cell_type": "code",
      "execution_count": 171,
      "id": "c772ad9b",
      "metadata": {},
      "outputs": [],
      "source": [
        "train.drop(columns='Name', inplace=True)\n",
        "test.drop(columns='Name', inplace=True)"
      ]
    },
    {
      "cell_type": "markdown",
      "id": "7842adfd",
      "metadata": {},
      "source": [
        "`VIP`"
      ]
    },
    {
      "cell_type": "code",
      "execution_count": 172,
      "id": "f6f543b6",
      "metadata": {},
      "outputs": [
        {
          "data": {
            "text/plain": [
              "VIP\n",
              "False    8291\n",
              "True      199\n",
              "Name: count, dtype: int64"
            ]
          },
          "execution_count": 172,
          "metadata": {},
          "output_type": "execute_result"
        }
      ],
      "source": [
        "train.VIP.value_counts()"
      ]
    },
    {
      "cell_type": "code",
      "execution_count": 173,
      "id": "3c09ca06",
      "metadata": {},
      "outputs": [],
      "source": [
        "train.VIP.fillna(False, inplace=True)\n",
        "test.VIP.fillna(False, inplace=True)"
      ]
    },
    {
      "cell_type": "markdown",
      "id": "479812f8",
      "metadata": {},
      "source": [
        "`CryoSleep`\n",
        "- 자는데 VIP 일 필요 없다.\n",
        "- 자는데 돈 쓸일 없다."
      ]
    },
    {
      "cell_type": "code",
      "execution_count": 178,
      "id": "c5c369ac",
      "metadata": {},
      "outputs": [
        {
          "data": {
            "text/plain": [
              "<Axes: xlabel='CryoSleep', ylabel='Free'>"
            ]
          },
          "execution_count": 178,
          "metadata": {},
          "output_type": "execute_result"
        },
        {
          "data": {
            "image/png": "[encoded data removed]",
            "text/plain": [
              "<Figure size 1200x600 with 2 Axes>"
            ]
          },
          "metadata": {},
          "output_type": "display_data"
        }
      ],
      "source": [
        "f, (ax1, ax2) = plt.subplots(1, 2,figsize=(12, 6))\n",
        "sns.barplot(train, x='CryoSleep', y='VIP', errorbar=None, ax=ax1)\n",
        "sns.barplot(train, x='CryoSleep', y='Free', ax=ax2)"
      ]
    },
    {
      "cell_type": "code",
      "execution_count": 179,
      "id": "00f281f5",
      "metadata": {},
      "outputs": [],
      "source": [
        "def fill_cryopsleep(row):\n",
        "    if pd.notnull(row['CryoSleep']):\n",
        "        return row\n",
        "    # Amenities  아예 0원\n",
        "    if row['Free']:\n",
        "        row['CryoSleep'] = True\n",
        "    elif pd.isnull(row['CryoSleep']) and not row['Free']:\n",
        "        row['CryoSleep'] = False\n",
        "    return row\n",
        "train = train.apply(fill_cryopsleep, axis=1)\n",
        "test = test.apply(fill_cryopsleep, axis=1)"
      ]
    },
    {
      "cell_type": "code",
      "execution_count": 181,
      "id": "bff4427a",
      "metadata": {},
      "outputs": [
        {
          "name": "stdout",
          "output_type": "stream",
          "text": [
            "<class 'pandas.core.frame.DataFrame'>\n",
            "RangeIndex: 8693 entries, 0 to 8692\n",
            "Data columns (total 17 columns):\n",
            " #   Column              Non-Null Count  Dtype  \n",
            "---  ------              --------------  -----  \n",
            " 0   PassengerId         8693 non-null   object \n",
            " 1   HomePlanet          8492 non-null   object \n",
            " 2   CryoSleep           8693 non-null   bool   \n",
            " 3   Destination         8511 non-null   object \n",
            " 4   VIP                 8693 non-null   bool   \n",
            " 5   RoomService         8693 non-null   float64\n",
            " 6   FoodCourt           8693 non-null   float64\n",
            " 7   ShoppingMall        8693 non-null   float64\n",
            " 8   Spa                 8693 non-null   float64\n",
            " 9   VRDeck              8693 non-null   float64\n",
            " 10  Transported         8693 non-null   bool   \n",
            " 11  Age_Category        8693 non-null   float64\n",
            " 12  Total_Amenities     8693 non-null   float64\n",
            " 13  Free                8693 non-null   int64  \n",
            " 14  Cabin_deck          8494 non-null   object \n",
            " 15  Cabin_side          8494 non-null   object \n",
            " 16  Cabin_num_category  8494 non-null   float64\n",
            "dtypes: bool(3), float64(8), int64(1), object(5)\n",
            "memory usage: 976.4+ KB\n"
          ]
        }
      ],
      "source": [
        "train.info()"
      ]
    },
    {
      "cell_type": "markdown",
      "id": "8ea13c74",
      "metadata": {},
      "source": [
        "- 나머지는 전부 Group 이 필요해보임"
      ]
    },
    {
      "cell_type": "code",
      "execution_count": 182,
      "id": "beaecc11",
      "metadata": {},
      "outputs": [],
      "source": [
        "train['Group'] = train.PassengerId.str.slice(0,4)\n",
        "train['Group_Num'] = train.groupby('Group')['Group'].transform('size')\n",
        "test['Group'] = test.PassengerId.str.slice(0,4)\n",
        "test['Group_Num'] = test.groupby('Group')['Group'].transform('size')\n",
        "train.drop(columns='PassengerId', inplace=True)\n",
        "test.drop(columns='PassengerId', inplace=True)"
      ]
    },
    {
      "cell_type": "code",
      "execution_count": 184,
      "id": "a9d24534",
      "metadata": {},
      "outputs": [
        {
          "data": {
            "text/plain": [
              "<Axes: xlabel='Group_Num', ylabel='Count'>"
            ]
          },
          "execution_count": 184,
          "metadata": {},
          "output_type": "execute_result"
        },
        {
          "data": {
            "image/png": "[encoded data removed]",
            "text/plain": [
              "<Figure size 640x480 with 1 Axes>"
            ]
          },
          "metadata": {},
          "output_type": "display_data"
        }
      ],
      "source": [
        "sns.histplot(data=train, x='Group_Num', hue='Transported')"
      ]
    },
    {
      "cell_type": "markdown",
      "id": "f23c4633",
      "metadata": {},
      "source": [
        "- 혼자 탄 사람이 많다. -> `alone` column\n",
        "- 1과 8 그리고 나머지가 반대되는 양상이다. -> `end` column"
      ]
    },
    {
      "cell_type": "code",
      "execution_count": 185,
      "id": "976c2e80",
      "metadata": {},
      "outputs": [],
      "source": [
        "train['alone'] = train['Group_Num'].apply(lambda x: 1 if x==0 else 0)\n",
        "train['end'] = train['Group_Num'].apply(lambda x: 1 if x in (1, 8) else 0)\n",
        "test['alone'] = test['Group_Num'].apply(lambda x: 1 if x==0 else 0)\n",
        "test['end'] = test['Group_Num'].apply(lambda x: 1 if x in (1, 8) else 0)"
      ]
    },
    {
      "cell_type": "code",
      "execution_count": 186,
      "id": "2d3aefff",
      "metadata": {},
      "outputs": [
        {
          "data": {
            "text/html": [
              "<div>\n",
              "<style scoped>\n",
              "    .dataframe tbody tr th:only-of-type {\n",
              "        vertical-align: middle;\n",
              "    }\n",
              "\n",
              "    .dataframe tbody tr th {\n",
              "        vertical-align: top;\n",
              "    }\n",
              "\n",
              "    .dataframe thead th {\n",
              "        text-align: right;\n",
              "    }\n",
              "</style>\n",
              "<table border=\"1\" class=\"dataframe\">\n",
              "  <thead>\n",
              "    <tr style=\"text-align: right;\">\n",
              "      <th></th>\n",
              "      <th>HomePlanet</th>\n",
              "      <th>CryoSleep</th>\n",
              "      <th>Destination</th>\n",
              "      <th>VIP</th>\n",
              "      <th>RoomService</th>\n",
              "      <th>FoodCourt</th>\n",
              "      <th>ShoppingMall</th>\n",
              "      <th>Spa</th>\n",
              "      <th>VRDeck</th>\n",
              "      <th>Transported</th>\n",
              "      <th>Age_Category</th>\n",
              "      <th>Total_Amenities</th>\n",
              "      <th>Free</th>\n",
              "      <th>Cabin_deck</th>\n",
              "      <th>Cabin_side</th>\n",
              "      <th>Cabin_num_category</th>\n",
              "      <th>Group</th>\n",
              "      <th>Group_Num</th>\n",
              "      <th>alone</th>\n",
              "      <th>end</th>\n",
              "    </tr>\n",
              "  </thead>\n",
              "  <tbody>\n",
              "    <tr>\n",
              "      <th>0</th>\n",
              "      <td>Europa</td>\n",
              "      <td>False</td>\n",
              "      <td>TRAPPIST-1e</td>\n",
              "      <td>False</td>\n",
              "      <td>0.0</td>\n",
              "      <td>0.0</td>\n",
              "      <td>0.0</td>\n",
              "      <td>0.0</td>\n",
              "      <td>0.0</td>\n",
              "      <td>False</td>\n",
              "      <td>2.0</td>\n",
              "      <td>0.0</td>\n",
              "      <td>1</td>\n",
              "      <td>B</td>\n",
              "      <td>P</td>\n",
              "      <td>0.0</td>\n",
              "      <td>0001</td>\n",
              "      <td>1</td>\n",
              "      <td>0</td>\n",
              "      <td>1</td>\n",
              "    </tr>\n",
              "    <tr>\n",
              "      <th>1</th>\n",
              "      <td>Earth</td>\n",
              "      <td>False</td>\n",
              "      <td>TRAPPIST-1e</td>\n",
              "      <td>False</td>\n",
              "      <td>109.0</td>\n",
              "      <td>9.0</td>\n",
              "      <td>25.0</td>\n",
              "      <td>549.0</td>\n",
              "      <td>44.0</td>\n",
              "      <td>True</td>\n",
              "      <td>1.0</td>\n",
              "      <td>736.0</td>\n",
              "      <td>0</td>\n",
              "      <td>F</td>\n",
              "      <td>S</td>\n",
              "      <td>0.0</td>\n",
              "      <td>0002</td>\n",
              "      <td>1</td>\n",
              "      <td>0</td>\n",
              "      <td>1</td>\n",
              "    </tr>\n",
              "    <tr>\n",
              "      <th>2</th>\n",
              "      <td>Europa</td>\n",
              "      <td>False</td>\n",
              "      <td>TRAPPIST-1e</td>\n",
              "      <td>True</td>\n",
              "      <td>43.0</td>\n",
              "      <td>3576.0</td>\n",
              "      <td>0.0</td>\n",
              "      <td>6715.0</td>\n",
              "      <td>49.0</td>\n",
              "      <td>False</td>\n",
              "      <td>2.0</td>\n",
              "      <td>10383.0</td>\n",
              "      <td>0</td>\n",
              "      <td>A</td>\n",
              "      <td>S</td>\n",
              "      <td>0.0</td>\n",
              "      <td>0003</td>\n",
              "      <td>2</td>\n",
              "      <td>0</td>\n",
              "      <td>0</td>\n",
              "    </tr>\n",
              "    <tr>\n",
              "      <th>3</th>\n",
              "      <td>Europa</td>\n",
              "      <td>False</td>\n",
              "      <td>TRAPPIST-1e</td>\n",
              "      <td>False</td>\n",
              "      <td>0.0</td>\n",
              "      <td>1283.0</td>\n",
              "      <td>371.0</td>\n",
              "      <td>3329.0</td>\n",
              "      <td>193.0</td>\n",
              "      <td>False</td>\n",
              "      <td>1.0</td>\n",
              "      <td>5176.0</td>\n",
              "      <td>0</td>\n",
              "      <td>A</td>\n",
              "      <td>S</td>\n",
              "      <td>0.0</td>\n",
              "      <td>0003</td>\n",
              "      <td>2</td>\n",
              "      <td>0</td>\n",
              "      <td>0</td>\n",
              "    </tr>\n",
              "    <tr>\n",
              "      <th>4</th>\n",
              "      <td>Earth</td>\n",
              "      <td>False</td>\n",
              "      <td>TRAPPIST-1e</td>\n",
              "      <td>False</td>\n",
              "      <td>303.0</td>\n",
              "      <td>70.0</td>\n",
              "      <td>151.0</td>\n",
              "      <td>565.0</td>\n",
              "      <td>2.0</td>\n",
              "      <td>True</td>\n",
              "      <td>0.0</td>\n",
              "      <td>1091.0</td>\n",
              "      <td>0</td>\n",
              "      <td>F</td>\n",
              "      <td>S</td>\n",
              "      <td>0.0</td>\n",
              "      <td>0004</td>\n",
              "      <td>1</td>\n",
              "      <td>0</td>\n",
              "      <td>1</td>\n",
              "    </tr>\n",
              "  </tbody>\n",
              "</table>\n",
              "</div>"
            ],
            "text/plain": [
              "  HomePlanet  CryoSleep  Destination    VIP  RoomService  FoodCourt  \\\n",
              "0     Europa      False  TRAPPIST-1e  False          0.0        0.0   \n",
              "1      Earth      False  TRAPPIST-1e  False        109.0        9.0   \n",
              "2     Europa      False  TRAPPIST-1e   True         43.0     3576.0   \n",
              "3     Europa      False  TRAPPIST-1e  False          0.0     1283.0   \n",
              "4      Earth      False  TRAPPIST-1e  False        303.0       70.0   \n",
              "\n",
              "   ShoppingMall     Spa  VRDeck  Transported  Age_Category  Total_Amenities  \\\n",
              "0           0.0     0.0     0.0        False           2.0              0.0   \n",
              "1          25.0   549.0    44.0         True           1.0            736.0   \n",
              "2           0.0  6715.0    49.0        False           2.0          10383.0   \n",
              "3         371.0  3329.0   193.0        False           1.0           5176.0   \n",
              "4         151.0   565.0     2.0         True           0.0           1091.0   \n",
              "\n",
              "   Free Cabin_deck Cabin_side  Cabin_num_category Group  Group_Num  alone  end  \n",
              "0     1          B          P                 0.0  0001          1      0    1  \n",
              "1     0          F          S                 0.0  0002          1      0    1  \n",
              "2     0          A          S                 0.0  0003          2      0    0  \n",
              "3     0          A          S                 0.0  0003          2      0    0  \n",
              "4     0          F          S                 0.0  0004          1      0    1  "
            ]
          },
          "execution_count": 186,
          "metadata": {},
          "output_type": "execute_result"
        }
      ],
      "source": [
        "train.head()"
      ]
    },
    {
      "cell_type": "markdown",
      "id": "4a458a72",
      "metadata": {},
      "source": [
        "- Cabin 은 `Group`(from **PassengerId**)/`HomePlanet` 에 따라 정해질 가능성이 크다고 생각됨 "
      ]
    },
    {
      "cell_type": "code",
      "execution_count": null,
      "id": "d3e24b3b",
      "metadata": {},
      "outputs": [],
      "source": [
        "GCD_gb=train[train['Group_size']>1].groupby(['Group','Cabin_deck'])['Cabin_deck'].size().unstack().fillna(0)\n",
        "GCN_gb=train[train['Group_size']>1].groupby(['Group','Cabin_number'])['Cabin_number'].size().unstack().fillna(0)\n",
        "GCS_gb=train[train['Group_size']>1].groupby(['Group','Cabin_side'])['Cabin_side'].size().unstack().fillna(0)\n",
        "\n",
        "# Countplots\n",
        "fig=plt.figure(figsize=(16,4))\n",
        "plt.subplot(1,3,1)\n",
        "sns.countplot((GCD_gb>0).sum(axis=1))\n",
        "plt.title('#Unique cabin decks per group')\n",
        "\n",
        "plt.subplot(1,3,2)\n",
        "sns.countplot((GCN_gb>0).sum(axis=1))\n",
        "plt.title('#Unique cabin numbers per group')\n",
        "\n",
        "plt.subplot(1,3,3)\n",
        "sns.countplot((GCS_gb>0).sum(axis=1))\n",
        "plt.title('#Unique cabin sides per group')\n",
        "fig.tight_layout()"
      ]
    },
    {
      "cell_type": "markdown",
      "id": "aeebc3c0",
      "metadata": {},
      "source": [
        "#### Transported By Each Column "
      ]
    },
    {
      "cell_type": "code",
      "execution_count": 192,
      "id": "7dad5a31",
      "metadata": {},
      "outputs": [
        {
          "data": {
            "text/html": [
              "<div>\n",
              "<style scoped>\n",
              "    .dataframe tbody tr th:only-of-type {\n",
              "        vertical-align: middle;\n",
              "    }\n",
              "\n",
              "    .dataframe tbody tr th {\n",
              "        vertical-align: top;\n",
              "    }\n",
              "\n",
              "    .dataframe thead th {\n",
              "        text-align: right;\n",
              "    }\n",
              "</style>\n",
              "<table border=\"1\" class=\"dataframe\">\n",
              "  <thead>\n",
              "    <tr style=\"text-align: right;\">\n",
              "      <th></th>\n",
              "      <th>PassengerId</th>\n",
              "      <th>HomePlanet</th>\n",
              "      <th>CryoSleep</th>\n",
              "      <th>Cabin</th>\n",
              "      <th>Destination</th>\n",
              "      <th>Age</th>\n",
              "      <th>VIP</th>\n",
              "      <th>RoomService</th>\n",
              "      <th>FoodCourt</th>\n",
              "      <th>ShoppingMall</th>\n",
              "      <th>Spa</th>\n",
              "      <th>VRDeck</th>\n",
              "      <th>Name</th>\n",
              "      <th>Transported</th>\n",
              "      <th>Cabin_deck</th>\n",
              "    </tr>\n",
              "  </thead>\n",
              "  <tbody>\n",
              "    <tr>\n",
              "      <th>0</th>\n",
              "      <td>0001_01</td>\n",
              "      <td>Europa</td>\n",
              "      <td>False</td>\n",
              "      <td>B/0/P</td>\n",
              "      <td>TRAPPIST-1e</td>\n",
              "      <td>39.0</td>\n",
              "      <td>False</td>\n",
              "      <td>0.0</td>\n",
              "      <td>0.0</td>\n",
              "      <td>0.0</td>\n",
              "      <td>0.0</td>\n",
              "      <td>0.0</td>\n",
              "      <td>Maham Ofracculy</td>\n",
              "      <td>False</td>\n",
              "      <td>B</td>\n",
              "    </tr>\n",
              "    <tr>\n",
              "      <th>1</th>\n",
              "      <td>0002_01</td>\n",
              "      <td>Earth</td>\n",
              "      <td>False</td>\n",
              "      <td>F/0/S</td>\n",
              "      <td>TRAPPIST-1e</td>\n",
              "      <td>24.0</td>\n",
              "      <td>False</td>\n",
              "      <td>109.0</td>\n",
              "      <td>9.0</td>\n",
              "      <td>25.0</td>\n",
              "      <td>549.0</td>\n",
              "      <td>44.0</td>\n",
              "      <td>Juanna Vines</td>\n",
              "      <td>True</td>\n",
              "      <td>F</td>\n",
              "    </tr>\n",
              "    <tr>\n",
              "      <th>2</th>\n",
              "      <td>0003_01</td>\n",
              "      <td>Europa</td>\n",
              "      <td>False</td>\n",
              "      <td>A/0/S</td>\n",
              "      <td>TRAPPIST-1e</td>\n",
              "      <td>58.0</td>\n",
              "      <td>True</td>\n",
              "      <td>43.0</td>\n",
              "      <td>3576.0</td>\n",
              "      <td>0.0</td>\n",
              "      <td>6715.0</td>\n",
              "      <td>49.0</td>\n",
              "      <td>Altark Susent</td>\n",
              "      <td>False</td>\n",
              "      <td>A</td>\n",
              "    </tr>\n",
              "    <tr>\n",
              "      <th>3</th>\n",
              "      <td>0003_02</td>\n",
              "      <td>Europa</td>\n",
              "      <td>False</td>\n",
              "      <td>A/0/S</td>\n",
              "      <td>TRAPPIST-1e</td>\n",
              "      <td>33.0</td>\n",
              "      <td>False</td>\n",
              "      <td>0.0</td>\n",
              "      <td>1283.0</td>\n",
              "      <td>371.0</td>\n",
              "      <td>3329.0</td>\n",
              "      <td>193.0</td>\n",
              "      <td>Solam Susent</td>\n",
              "      <td>False</td>\n",
              "      <td>A</td>\n",
              "    </tr>\n",
              "    <tr>\n",
              "      <th>4</th>\n",
              "      <td>0004_01</td>\n",
              "      <td>Earth</td>\n",
              "      <td>False</td>\n",
              "      <td>F/1/S</td>\n",
              "      <td>TRAPPIST-1e</td>\n",
              "      <td>16.0</td>\n",
              "      <td>False</td>\n",
              "      <td>303.0</td>\n",
              "      <td>70.0</td>\n",
              "      <td>151.0</td>\n",
              "      <td>565.0</td>\n",
              "      <td>2.0</td>\n",
              "      <td>Willy Santantines</td>\n",
              "      <td>True</td>\n",
              "      <td>F</td>\n",
              "    </tr>\n",
              "  </tbody>\n",
              "</table>\n",
              "</div>"
            ],
            "text/plain": [
              "  PassengerId HomePlanet CryoSleep  Cabin  Destination   Age    VIP  \\\n",
              "0     0001_01     Europa     False  B/0/P  TRAPPIST-1e  39.0  False   \n",
              "1     0002_01      Earth     False  F/0/S  TRAPPIST-1e  24.0  False   \n",
              "2     0003_01     Europa     False  A/0/S  TRAPPIST-1e  58.0   True   \n",
              "3     0003_02     Europa     False  A/0/S  TRAPPIST-1e  33.0  False   \n",
              "4     0004_01      Earth     False  F/1/S  TRAPPIST-1e  16.0  False   \n",
              "\n",
              "   RoomService  FoodCourt  ShoppingMall     Spa  VRDeck               Name  \\\n",
              "0          0.0        0.0           0.0     0.0     0.0    Maham Ofracculy   \n",
              "1        109.0        9.0          25.0   549.0    44.0       Juanna Vines   \n",
              "2         43.0     3576.0           0.0  6715.0    49.0      Altark Susent   \n",
              "3          0.0     1283.0         371.0  3329.0   193.0       Solam Susent   \n",
              "4        303.0       70.0         151.0   565.0     2.0  Willy Santantines   \n",
              "\n",
              "   Transported Cabin_deck  \n",
              "0        False          B  \n",
              "1         True          F  \n",
              "2        False          A  \n",
              "3        False          A  \n",
              "4         True          F  "
            ]
          },
          "execution_count": 192,
          "metadata": {},
          "output_type": "execute_result"
        }
      ],
      "source": [
        "# Cabin\n",
        "## Cabin 의 'deck/num/side' 은 경우의 수가 너무 많기 때문에 deck 으로만 비교한다.\n",
        "train['Cabin_deck'] = train.Cabin.str.slice(0,1,1)\n",
        "train.head()"
      ]
    },
    {
      "cell_type": "code",
      "execution_count": 193,
      "id": "a4e27012",
      "metadata": {},
      "outputs": [
        {
          "data": {
            "text/html": [
              "<div>\n",
              "<style scoped>\n",
              "    .dataframe tbody tr th:only-of-type {\n",
              "        vertical-align: middle;\n",
              "    }\n",
              "\n",
              "    .dataframe tbody tr th {\n",
              "        vertical-align: top;\n",
              "    }\n",
              "\n",
              "    .dataframe thead th {\n",
              "        text-align: right;\n",
              "    }\n",
              "</style>\n",
              "<table border=\"1\" class=\"dataframe\">\n",
              "  <thead>\n",
              "    <tr style=\"text-align: right;\">\n",
              "      <th></th>\n",
              "      <th>PassengerId</th>\n",
              "      <th>HomePlanet</th>\n",
              "      <th>CryoSleep</th>\n",
              "      <th>Cabin</th>\n",
              "      <th>Destination</th>\n",
              "      <th>Age</th>\n",
              "      <th>VIP</th>\n",
              "      <th>RoomService</th>\n",
              "      <th>FoodCourt</th>\n",
              "      <th>ShoppingMall</th>\n",
              "      <th>Spa</th>\n",
              "      <th>VRDeck</th>\n",
              "      <th>Name</th>\n",
              "      <th>Transported</th>\n",
              "      <th>Cabin_deck</th>\n",
              "      <th>Group</th>\n",
              "      <th>Group_Num</th>\n",
              "    </tr>\n",
              "  </thead>\n",
              "  <tbody>\n",
              "    <tr>\n",
              "      <th>0</th>\n",
              "      <td>0001_01</td>\n",
              "      <td>Europa</td>\n",
              "      <td>False</td>\n",
              "      <td>B/0/P</td>\n",
              "      <td>TRAPPIST-1e</td>\n",
              "      <td>39.0</td>\n",
              "      <td>False</td>\n",
              "      <td>0.0</td>\n",
              "      <td>0.0</td>\n",
              "      <td>0.0</td>\n",
              "      <td>0.0</td>\n",
              "      <td>0.0</td>\n",
              "      <td>Maham Ofracculy</td>\n",
              "      <td>False</td>\n",
              "      <td>B</td>\n",
              "      <td>0001</td>\n",
              "      <td>1</td>\n",
              "    </tr>\n",
              "    <tr>\n",
              "      <th>1</th>\n",
              "      <td>0002_01</td>\n",
              "      <td>Earth</td>\n",
              "      <td>False</td>\n",
              "      <td>F/0/S</td>\n",
              "      <td>TRAPPIST-1e</td>\n",
              "      <td>24.0</td>\n",
              "      <td>False</td>\n",
              "      <td>109.0</td>\n",
              "      <td>9.0</td>\n",
              "      <td>25.0</td>\n",
              "      <td>549.0</td>\n",
              "      <td>44.0</td>\n",
              "      <td>Juanna Vines</td>\n",
              "      <td>True</td>\n",
              "      <td>F</td>\n",
              "      <td>0002</td>\n",
              "      <td>1</td>\n",
              "    </tr>\n",
              "    <tr>\n",
              "      <th>2</th>\n",
              "      <td>0003_01</td>\n",
              "      <td>Europa</td>\n",
              "      <td>False</td>\n",
              "      <td>A/0/S</td>\n",
              "      <td>TRAPPIST-1e</td>\n",
              "      <td>58.0</td>\n",
              "      <td>True</td>\n",
              "      <td>43.0</td>\n",
              "      <td>3576.0</td>\n",
              "      <td>0.0</td>\n",
              "      <td>6715.0</td>\n",
              "      <td>49.0</td>\n",
              "      <td>Altark Susent</td>\n",
              "      <td>False</td>\n",
              "      <td>A</td>\n",
              "      <td>0003</td>\n",
              "      <td>2</td>\n",
              "    </tr>\n",
              "    <tr>\n",
              "      <th>3</th>\n",
              "      <td>0003_02</td>\n",
              "      <td>Europa</td>\n",
              "      <td>False</td>\n",
              "      <td>A/0/S</td>\n",
              "      <td>TRAPPIST-1e</td>\n",
              "      <td>33.0</td>\n",
              "      <td>False</td>\n",
              "      <td>0.0</td>\n",
              "      <td>1283.0</td>\n",
              "      <td>371.0</td>\n",
              "      <td>3329.0</td>\n",
              "      <td>193.0</td>\n",
              "      <td>Solam Susent</td>\n",
              "      <td>False</td>\n",
              "      <td>A</td>\n",
              "      <td>0003</td>\n",
              "      <td>2</td>\n",
              "    </tr>\n",
              "    <tr>\n",
              "      <th>4</th>\n",
              "      <td>0004_01</td>\n",
              "      <td>Earth</td>\n",
              "      <td>False</td>\n",
              "      <td>F/1/S</td>\n",
              "      <td>TRAPPIST-1e</td>\n",
              "      <td>16.0</td>\n",
              "      <td>False</td>\n",
              "      <td>303.0</td>\n",
              "      <td>70.0</td>\n",
              "      <td>151.0</td>\n",
              "      <td>565.0</td>\n",
              "      <td>2.0</td>\n",
              "      <td>Willy Santantines</td>\n",
              "      <td>True</td>\n",
              "      <td>F</td>\n",
              "      <td>0004</td>\n",
              "      <td>1</td>\n",
              "    </tr>\n",
              "  </tbody>\n",
              "</table>\n",
              "</div>"
            ],
            "text/plain": [
              "  PassengerId HomePlanet CryoSleep  Cabin  Destination   Age    VIP  \\\n",
              "0     0001_01     Europa     False  B/0/P  TRAPPIST-1e  39.0  False   \n",
              "1     0002_01      Earth     False  F/0/S  TRAPPIST-1e  24.0  False   \n",
              "2     0003_01     Europa     False  A/0/S  TRAPPIST-1e  58.0   True   \n",
              "3     0003_02     Europa     False  A/0/S  TRAPPIST-1e  33.0  False   \n",
              "4     0004_01      Earth     False  F/1/S  TRAPPIST-1e  16.0  False   \n",
              "\n",
              "   RoomService  FoodCourt  ShoppingMall     Spa  VRDeck               Name  \\\n",
              "0          0.0        0.0           0.0     0.0     0.0    Maham Ofracculy   \n",
              "1        109.0        9.0          25.0   549.0    44.0       Juanna Vines   \n",
              "2         43.0     3576.0           0.0  6715.0    49.0      Altark Susent   \n",
              "3          0.0     1283.0         371.0  3329.0   193.0       Solam Susent   \n",
              "4        303.0       70.0         151.0   565.0     2.0  Willy Santantines   \n",
              "\n",
              "   Transported Cabin_deck Group  Group_Num  \n",
              "0        False          B  0001          1  \n",
              "1         True          F  0002          1  \n",
              "2        False          A  0003          2  \n",
              "3        False          A  0003          2  \n",
              "4         True          F  0004          1  "
            ]
          },
          "execution_count": 193,
          "metadata": {},
          "output_type": "execute_result"
        }
      ],
      "source": [
        "# PassengerId - Group\n",
        "train['Group'] = train.PassengerId.str.slice(0,4)\n",
        "train['Group_Num'] = train.groupby('Group')['Group'].transform('size')\n",
        "train.head()"
      ]
    },
    {
      "cell_type": "code",
      "execution_count": 194,
      "id": "27c706d3",
      "metadata": {},
      "outputs": [],
      "source": [
        "def transported_by_column(column, ax):\n",
        "    mean_values = train.groupby(column)['Transported'].mean().sort_values(ascending=False)\n",
        "    sns.barplot(data=train, x=column, y='Transported', palette=\"rocket\", ax=ax, errorbar=None, order=mean_values.index)\n",
        "    ax.set_ylim(0.0, 1.0)\n",
        "    ax.set(xlabel='', ylabel='', title=column)\n",
        "    for i in ax.containers:\n",
        "        ax.bar_label(i, padding=8)"
      ]
    },
    {
      "cell_type": "code",
      "execution_count": 197,
      "id": "2de544ed",
      "metadata": {},
      "outputs": [
        {
          "data": {
            "image/png": "[encoded data removed]",
            "text/plain": [
              "<Figure size 2000x1200 with 6 Axes>"
            ]
          },
          "metadata": {},
          "output_type": "display_data"
        }
      ],
      "source": [
        "## Only One Column (4. HomePlanet이 다르면, Transported되는 정도가 다른지 체크해보세요)\n",
        "f, ((ax1, ax2, ax3), (ax4, ax5, ax6)) = plt.subplots(2, 3, sharey=True ,figsize=(20, 12))\n",
        "f.suptitle('Transported by Each Column', fontsize=16)\n",
        "transported_by_column('Group_Num', ax1)\n",
        "transported_by_column('HomePlanet', ax2)\n",
        "transported_by_column('CryoSleep', ax3)\n",
        "transported_by_column('Cabin_deck', ax4)\n",
        "transported_by_column('Destination', ax5)\n",
        "transported_by_column('VIP', ax6)\n"
      ]
    },
    {
      "cell_type": "markdown",
      "id": "6959d7ae",
      "metadata": {},
      "source": [
        "- `Group_Num`: 그룹 내에 포함된 사람 수에 따른 생존률\n",
        "    - 너무많거나 적은 수(1, 2, 7, 8) 에 비해\n",
        "    - 적당히 포함된 수(3, 4, 5, 6) 의 생존률이 더 높은 것을 확인할 수 있다. </br>\n",
        "    $\\rightarrow$ <span style='color: salmon'> (1,2,7,8) 을 **0**, (3,4,5,6) 을  **1** 로 구분한다.</span>\n",
        "\n",
        "- `Cabin_deck`\n",
        "    - **deck** 에 따른 연관성을 둘 수 없다.\n",
        "\n",
        "- 나머지 Column 의 데이터는 전부 ***Transported*** 에 유의미한 영향이 있는 것으로 판단할 수 있다 (drop 할 column 이 없다)\n",
        "    - 특히 `CryoSleep` 의 여부에 따라 ***Transported*** 가 가장 많이 영향을 받는다. </br>\n",
        "    $\\rightarrow$ <span style='color: salmon'> **CryoSleep**에 대한 추가적인 EDA 를 진행해 본다. </span>"
      ]
    },
    {
      "cell_type": "markdown",
      "id": "d611c051",
      "metadata": {},
      "source": [
        "`성능이 너무 안나오면 여기 풀기`"
      ]
    },
    {
      "cell_type": "code",
      "execution_count": 199,
      "id": "858aff28",
      "metadata": {},
      "outputs": [
        {
          "data": {
            "text/plain": [
              "Middle_group\n",
              "0    6822\n",
              "1    1871\n",
              "Name: count, dtype: int64"
            ]
          },
          "execution_count": 199,
          "metadata": {},
          "output_type": "execute_result"
        }
      ],
      "source": [
        "# Create Middel Group Column // 성능이 너무 안나오면 \n",
        "train['Middle_group'] = train.Group_Num.apply(lambda x: 0 if x in (1,2,7,8) else 1)\n",
        "train.Middle_group.value_counts()"
      ]
    },
    {
      "cell_type": "code",
      "execution_count": 200,
      "id": "adf549fe",
      "metadata": {},
      "outputs": [],
      "source": [
        "# Amenities\n",
        "# 총 합에 따른 Transported 를 살펴본다.\n",
        "# 이때, column 에 따른 결측치를 처리하는 것이 아닌 row 에 의해 처리한다.\n",
        "amenities = train.loc[:, ['RoomService', 'FoodCourt', 'ShoppingMall', 'Spa', 'VRDeck']]\n",
        "row_mean = amenities.mean(axis=1)\n",
        "for i, row in amenities.iterrows():\n",
        "    for j, value in enumerate(row):\n",
        "        if pd.isnull(value):\n",
        "            amenities.iloc[i, j] = row_mean[i]"
      ]
    },
    {
      "cell_type": "code",
      "execution_count": 201,
      "id": "5bd206af",
      "metadata": {},
      "outputs": [
        {
          "data": {
            "text/plain": [
              "count     8693.000000\n",
              "mean      1469.698761\n",
              "std       2860.338611\n",
              "min          0.000000\n",
              "25%          0.000000\n",
              "50%        723.000000\n",
              "75%       1458.000000\n",
              "max      35987.000000\n",
              "Name: Total_Amenities, dtype: float64"
            ]
          },
          "execution_count": 201,
          "metadata": {},
          "output_type": "execute_result"
        }
      ],
      "source": [
        "train['Total_Amenities'] = amenities.sum(axis=1)\n",
        "train['Total_Amenities'].describe()"
      ]
    },
    {
      "cell_type": "code",
      "execution_count": 202,
      "id": "372ee1ef",
      "metadata": {},
      "outputs": [
        {
          "name": "stderr",
          "output_type": "stream",
          "text": [
            "c:\\Users\\hmk40\\anaconda3\\Lib\\site-packages\\seaborn\\axisgrid.py:118: UserWarning: The figure layout has changed to tight\n",
            "  self._figure.tight_layout(*args, **kwargs)\n"
          ]
        },
        {
          "data": {
            "text/plain": [
              "<seaborn.axisgrid.FacetGrid at 0x24c81ae8d90>"
            ]
          },
          "execution_count": 202,
          "metadata": {},
          "output_type": "execute_result"
        },
        {
          "data": {
            "image/png": "[encoded data removed]",
            "text/plain": [
              "<Figure size 500x500 with 1 Axes>"
            ]
          },
          "metadata": {},
          "output_type": "display_data"
        }
      ],
      "source": [
        "sns.set_theme(style='darkgrid')\n",
        "ax = sns.lmplot(data=train, x='Total_Amenities', y='Transported', y_jitter=.02, logistic=True)\n",
        "ax.set(xlim=(0, 36000), ylim=(-.05, 1.05))"
      ]
    },
    {
      "cell_type": "markdown",
      "id": "14c73b63",
      "metadata": {},
      "source": [
        "`Amenities` 에 지불한 정도(양)에 따른 Transported 에 대한 logistic regression 결과이다.\n",
        "- 3000 까지는 대략 0.5에서 **Transported** 가 형성된다. \n",
        "- 그리고 그 이후로 errorbar 가 생성되기 시작하면서 아래(0)로 향하게 된다. (돌아댕기면 Transported 확률이 적나?)\n",
        "- 3000 을 기준으로 구분한다 -> `Amenities_Usage`"
      ]
    },
    {
      "cell_type": "code",
      "execution_count": 203,
      "id": "7b62a16d",
      "metadata": {},
      "outputs": [
        {
          "data": {
            "text/plain": [
              "Amenities_Usage\n",
              "0    7550\n",
              "1    1143\n",
              "Name: count, dtype: int64"
            ]
          },
          "execution_count": 203,
          "metadata": {},
          "output_type": "execute_result"
        }
      ],
      "source": [
        "train['Amenities_Usage'] = train['Total_Amenities'].apply(lambda x: 0 if x < 3000 else 1)\n",
        "train['Amenities_Usage'].value_counts()"
      ]
    },
    {
      "cell_type": "code",
      "execution_count": 204,
      "id": "a525046a",
      "metadata": {},
      "outputs": [
        {
          "data": {
            "text/html": [
              "<div>\n",
              "<style scoped>\n",
              "    .dataframe tbody tr th:only-of-type {\n",
              "        vertical-align: middle;\n",
              "    }\n",
              "\n",
              "    .dataframe tbody tr th {\n",
              "        vertical-align: top;\n",
              "    }\n",
              "\n",
              "    .dataframe thead th {\n",
              "        text-align: right;\n",
              "    }\n",
              "</style>\n",
              "<table border=\"1\" class=\"dataframe\">\n",
              "  <thead>\n",
              "    <tr style=\"text-align: right;\">\n",
              "      <th></th>\n",
              "      <th>PassengerId</th>\n",
              "      <th>HomePlanet</th>\n",
              "      <th>CryoSleep</th>\n",
              "      <th>Cabin</th>\n",
              "      <th>Destination</th>\n",
              "      <th>Age</th>\n",
              "      <th>VIP</th>\n",
              "      <th>RoomService</th>\n",
              "      <th>FoodCourt</th>\n",
              "      <th>ShoppingMall</th>\n",
              "      <th>Spa</th>\n",
              "      <th>VRDeck</th>\n",
              "      <th>Name</th>\n",
              "      <th>Transported</th>\n",
              "      <th>Cabin_deck</th>\n",
              "      <th>Group</th>\n",
              "      <th>Group_Num</th>\n",
              "      <th>Middle_group</th>\n",
              "      <th>Total_Amenities</th>\n",
              "      <th>Amenities_Usage</th>\n",
              "    </tr>\n",
              "  </thead>\n",
              "  <tbody>\n",
              "    <tr>\n",
              "      <th>0</th>\n",
              "      <td>0001_01</td>\n",
              "      <td>Europa</td>\n",
              "      <td>False</td>\n",
              "      <td>B/0/P</td>\n",
              "      <td>TRAPPIST-1e</td>\n",
              "      <td>39.0</td>\n",
              "      <td>False</td>\n",
              "      <td>0.0</td>\n",
              "      <td>0.0</td>\n",
              "      <td>0.0</td>\n",
              "      <td>0.0</td>\n",
              "      <td>0.0</td>\n",
              "      <td>Maham Ofracculy</td>\n",
              "      <td>False</td>\n",
              "      <td>B</td>\n",
              "      <td>0001</td>\n",
              "      <td>1</td>\n",
              "      <td>0</td>\n",
              "      <td>0.0</td>\n",
              "      <td>0</td>\n",
              "    </tr>\n",
              "    <tr>\n",
              "      <th>1</th>\n",
              "      <td>0002_01</td>\n",
              "      <td>Earth</td>\n",
              "      <td>False</td>\n",
              "      <td>F/0/S</td>\n",
              "      <td>TRAPPIST-1e</td>\n",
              "      <td>24.0</td>\n",
              "      <td>False</td>\n",
              "      <td>109.0</td>\n",
              "      <td>9.0</td>\n",
              "      <td>25.0</td>\n",
              "      <td>549.0</td>\n",
              "      <td>44.0</td>\n",
              "      <td>Juanna Vines</td>\n",
              "      <td>True</td>\n",
              "      <td>F</td>\n",
              "      <td>0002</td>\n",
              "      <td>1</td>\n",
              "      <td>0</td>\n",
              "      <td>736.0</td>\n",
              "      <td>0</td>\n",
              "    </tr>\n",
              "    <tr>\n",
              "      <th>2</th>\n",
              "      <td>0003_01</td>\n",
              "      <td>Europa</td>\n",
              "      <td>False</td>\n",
              "      <td>A/0/S</td>\n",
              "      <td>TRAPPIST-1e</td>\n",
              "      <td>58.0</td>\n",
              "      <td>True</td>\n",
              "      <td>43.0</td>\n",
              "      <td>3576.0</td>\n",
              "      <td>0.0</td>\n",
              "      <td>6715.0</td>\n",
              "      <td>49.0</td>\n",
              "      <td>Altark Susent</td>\n",
              "      <td>False</td>\n",
              "      <td>A</td>\n",
              "      <td>0003</td>\n",
              "      <td>2</td>\n",
              "      <td>0</td>\n",
              "      <td>10383.0</td>\n",
              "      <td>1</td>\n",
              "    </tr>\n",
              "    <tr>\n",
              "      <th>3</th>\n",
              "      <td>0003_02</td>\n",
              "      <td>Europa</td>\n",
              "      <td>False</td>\n",
              "      <td>A/0/S</td>\n",
              "      <td>TRAPPIST-1e</td>\n",
              "      <td>33.0</td>\n",
              "      <td>False</td>\n",
              "      <td>0.0</td>\n",
              "      <td>1283.0</td>\n",
              "      <td>371.0</td>\n",
              "      <td>3329.0</td>\n",
              "      <td>193.0</td>\n",
              "      <td>Solam Susent</td>\n",
              "      <td>False</td>\n",
              "      <td>A</td>\n",
              "      <td>0003</td>\n",
              "      <td>2</td>\n",
              "      <td>0</td>\n",
              "      <td>5176.0</td>\n",
              "      <td>1</td>\n",
              "    </tr>\n",
              "    <tr>\n",
              "      <th>4</th>\n",
              "      <td>0004_01</td>\n",
              "      <td>Earth</td>\n",
              "      <td>False</td>\n",
              "      <td>F/1/S</td>\n",
              "      <td>TRAPPIST-1e</td>\n",
              "      <td>16.0</td>\n",
              "      <td>False</td>\n",
              "      <td>303.0</td>\n",
              "      <td>70.0</td>\n",
              "      <td>151.0</td>\n",
              "      <td>565.0</td>\n",
              "      <td>2.0</td>\n",
              "      <td>Willy Santantines</td>\n",
              "      <td>True</td>\n",
              "      <td>F</td>\n",
              "      <td>0004</td>\n",
              "      <td>1</td>\n",
              "      <td>0</td>\n",
              "      <td>1091.0</td>\n",
              "      <td>0</td>\n",
              "    </tr>\n",
              "  </tbody>\n",
              "</table>\n",
              "</div>"
            ],
            "text/plain": [
              "  PassengerId HomePlanet CryoSleep  Cabin  Destination   Age    VIP  \\\n",
              "0     0001_01     Europa     False  B/0/P  TRAPPIST-1e  39.0  False   \n",
              "1     0002_01      Earth     False  F/0/S  TRAPPIST-1e  24.0  False   \n",
              "2     0003_01     Europa     False  A/0/S  TRAPPIST-1e  58.0   True   \n",
              "3     0003_02     Europa     False  A/0/S  TRAPPIST-1e  33.0  False   \n",
              "4     0004_01      Earth     False  F/1/S  TRAPPIST-1e  16.0  False   \n",
              "\n",
              "   RoomService  FoodCourt  ShoppingMall     Spa  VRDeck               Name  \\\n",
              "0          0.0        0.0           0.0     0.0     0.0    Maham Ofracculy   \n",
              "1        109.0        9.0          25.0   549.0    44.0       Juanna Vines   \n",
              "2         43.0     3576.0           0.0  6715.0    49.0      Altark Susent   \n",
              "3          0.0     1283.0         371.0  3329.0   193.0       Solam Susent   \n",
              "4        303.0       70.0         151.0   565.0     2.0  Willy Santantines   \n",
              "\n",
              "   Transported Cabin_deck Group  Group_Num  Middle_group  Total_Amenities  \\\n",
              "0        False          B  0001          1             0              0.0   \n",
              "1         True          F  0002          1             0            736.0   \n",
              "2        False          A  0003          2             0          10383.0   \n",
              "3        False          A  0003          2             0           5176.0   \n",
              "4         True          F  0004          1             0           1091.0   \n",
              "\n",
              "   Amenities_Usage  \n",
              "0                0  \n",
              "1                0  \n",
              "2                1  \n",
              "3                1  \n",
              "4                0  "
            ]
          },
          "execution_count": 204,
          "metadata": {},
          "output_type": "execute_result"
        }
      ],
      "source": [
        "train.head()"
      ]
    },
    {
      "cell_type": "code",
      "execution_count": 205,
      "id": "f053fc72",
      "metadata": {},
      "outputs": [
        {
          "data": {
            "text/html": [
              "<div>\n",
              "<style scoped>\n",
              "    .dataframe tbody tr th:only-of-type {\n",
              "        vertical-align: middle;\n",
              "    }\n",
              "\n",
              "    .dataframe tbody tr th {\n",
              "        vertical-align: top;\n",
              "    }\n",
              "\n",
              "    .dataframe thead th {\n",
              "        text-align: right;\n",
              "    }\n",
              "</style>\n",
              "<table border=\"1\" class=\"dataframe\">\n",
              "  <thead>\n",
              "    <tr style=\"text-align: right;\">\n",
              "      <th></th>\n",
              "      <th>PassengerId</th>\n",
              "      <th>HomePlanet</th>\n",
              "      <th>CryoSleep</th>\n",
              "      <th>Destination</th>\n",
              "      <th>Age</th>\n",
              "      <th>VIP</th>\n",
              "      <th>Transported</th>\n",
              "      <th>Cabin_deck</th>\n",
              "      <th>Group</th>\n",
              "      <th>Group_Num</th>\n",
              "      <th>Middle_group</th>\n",
              "      <th>Total_Amenities</th>\n",
              "      <th>Amenities_Usage</th>\n",
              "    </tr>\n",
              "  </thead>\n",
              "  <tbody>\n",
              "    <tr>\n",
              "      <th>0</th>\n",
              "      <td>0001_01</td>\n",
              "      <td>Europa</td>\n",
              "      <td>False</td>\n",
              "      <td>TRAPPIST-1e</td>\n",
              "      <td>39.0</td>\n",
              "      <td>False</td>\n",
              "      <td>False</td>\n",
              "      <td>B</td>\n",
              "      <td>0001</td>\n",
              "      <td>1</td>\n",
              "      <td>0</td>\n",
              "      <td>0.0</td>\n",
              "      <td>0</td>\n",
              "    </tr>\n",
              "    <tr>\n",
              "      <th>1</th>\n",
              "      <td>0002_01</td>\n",
              "      <td>Earth</td>\n",
              "      <td>False</td>\n",
              "      <td>TRAPPIST-1e</td>\n",
              "      <td>24.0</td>\n",
              "      <td>False</td>\n",
              "      <td>True</td>\n",
              "      <td>F</td>\n",
              "      <td>0002</td>\n",
              "      <td>1</td>\n",
              "      <td>0</td>\n",
              "      <td>736.0</td>\n",
              "      <td>0</td>\n",
              "    </tr>\n",
              "    <tr>\n",
              "      <th>2</th>\n",
              "      <td>0003_01</td>\n",
              "      <td>Europa</td>\n",
              "      <td>False</td>\n",
              "      <td>TRAPPIST-1e</td>\n",
              "      <td>58.0</td>\n",
              "      <td>True</td>\n",
              "      <td>False</td>\n",
              "      <td>A</td>\n",
              "      <td>0003</td>\n",
              "      <td>2</td>\n",
              "      <td>0</td>\n",
              "      <td>10383.0</td>\n",
              "      <td>1</td>\n",
              "    </tr>\n",
              "    <tr>\n",
              "      <th>3</th>\n",
              "      <td>0003_02</td>\n",
              "      <td>Europa</td>\n",
              "      <td>False</td>\n",
              "      <td>TRAPPIST-1e</td>\n",
              "      <td>33.0</td>\n",
              "      <td>False</td>\n",
              "      <td>False</td>\n",
              "      <td>A</td>\n",
              "      <td>0003</td>\n",
              "      <td>2</td>\n",
              "      <td>0</td>\n",
              "      <td>5176.0</td>\n",
              "      <td>1</td>\n",
              "    </tr>\n",
              "    <tr>\n",
              "      <th>4</th>\n",
              "      <td>0004_01</td>\n",
              "      <td>Earth</td>\n",
              "      <td>False</td>\n",
              "      <td>TRAPPIST-1e</td>\n",
              "      <td>16.0</td>\n",
              "      <td>False</td>\n",
              "      <td>True</td>\n",
              "      <td>F</td>\n",
              "      <td>0004</td>\n",
              "      <td>1</td>\n",
              "      <td>0</td>\n",
              "      <td>1091.0</td>\n",
              "      <td>0</td>\n",
              "    </tr>\n",
              "  </tbody>\n",
              "</table>\n",
              "</div>"
            ],
            "text/plain": [
              "  PassengerId HomePlanet CryoSleep  Destination   Age    VIP  Transported  \\\n",
              "0     0001_01     Europa     False  TRAPPIST-1e  39.0  False        False   \n",
              "1     0002_01      Earth     False  TRAPPIST-1e  24.0  False         True   \n",
              "2     0003_01     Europa     False  TRAPPIST-1e  58.0   True        False   \n",
              "3     0003_02     Europa     False  TRAPPIST-1e  33.0  False        False   \n",
              "4     0004_01      Earth     False  TRAPPIST-1e  16.0  False         True   \n",
              "\n",
              "  Cabin_deck Group  Group_Num  Middle_group  Total_Amenities  Amenities_Usage  \n",
              "0          B  0001          1             0              0.0                0  \n",
              "1          F  0002          1             0            736.0                0  \n",
              "2          A  0003          2             0          10383.0                1  \n",
              "3          A  0003          2             0           5176.0                1  \n",
              "4          F  0004          1             0           1091.0                0  "
            ]
          },
          "execution_count": 205,
          "metadata": {},
          "output_type": "execute_result"
        }
      ],
      "source": [
        "# Columns 삭제\n",
        "train = train.drop(columns=['Cabin', 'RoomService', 'FoodCourt', 'ShoppingMall', 'Spa', 'VRDeck', 'Name'])\n",
        "train.head()"
      ]
    },
    {
      "cell_type": "code",
      "execution_count": 206,
      "id": "8db0167a",
      "metadata": {},
      "outputs": [
        {
          "name": "stdout",
          "output_type": "stream",
          "text": [
            "<class 'pandas.core.frame.DataFrame'>\n",
            "RangeIndex: 8693 entries, 0 to 8692\n",
            "Data columns (total 13 columns):\n",
            " #   Column           Non-Null Count  Dtype  \n",
            "---  ------           --------------  -----  \n",
            " 0   PassengerId      8693 non-null   object \n",
            " 1   HomePlanet       8492 non-null   object \n",
            " 2   CryoSleep        8476 non-null   object \n",
            " 3   Destination      8511 non-null   object \n",
            " 4   Age              8514 non-null   float64\n",
            " 5   VIP              8490 non-null   object \n",
            " 6   Transported      8693 non-null   bool   \n",
            " 7   Cabin_deck       8494 non-null   object \n",
            " 8   Group            8693 non-null   object \n",
            " 9   Group_Num        8693 non-null   int64  \n",
            " 10  Middle_group     8693 non-null   int64  \n",
            " 11  Total_Amenities  8693 non-null   float64\n",
            " 12  Amenities_Usage  8693 non-null   int64  \n",
            "dtypes: bool(1), float64(2), int64(3), object(7)\n",
            "memory usage: 823.6+ KB\n"
          ]
        }
      ],
      "source": [
        "train.info()"
      ]
    },
    {
      "cell_type": "markdown",
      "id": "b26a21e9",
      "metadata": {},
      "source": [
        "- HomePlanet, CrypSleep, Destination, Age, VIP, Cabin_deck 채워야함...\n",
        "    - `HomePlanet`: 1. 같은 그룹(가족일 수 있음), 2. Cabin, 3. Destination\n",
        "    - `CrypSleep`: 갖혀있으므로 돈못씀 -> **Amenities** 0 이겠지?, 갖혀있는데 VIP인가? -> 자면 거의 VIP 가 아님\n",
        "    - `Destination`: 1. 같은 그룹(가족일 수 있음), 2. Cabin\n",
        "    - `VIP`: 1. 자는데 VIP 일 필요 없음. 2. 돈 많이쓰는 사람\n",
        "    - `Cabin`: 1. 그룹, 2. HomePlanet 3. Destination"
      ]
    },
    {
      "cell_type": "markdown",
      "id": "8d8c9cdd",
      "metadata": {},
      "source": [
        "##### `CryoSleep & VIP`"
      ]
    },
    {
      "cell_type": "code",
      "execution_count": 207,
      "id": "d25529d3",
      "metadata": {},
      "outputs": [
        {
          "data": {
            "text/plain": [
              "<Axes: xlabel='CryoSleep', ylabel='Amenities_Usage'>"
            ]
          },
          "execution_count": 207,
          "metadata": {},
          "output_type": "execute_result"
        },
        {
          "data": {
            "image/png": "[encoded data removed]",
            "text/plain": [
              "<Figure size 1200x600 with 2 Axes>"
            ]
          },
          "metadata": {},
          "output_type": "display_data"
        }
      ],
      "source": [
        "f, (ax1, ax2) = plt.subplots(1, 2,figsize=(12, 6))\n",
        "sns.barplot(train, x='CryoSleep', y='VIP', errorbar=None, ax=ax1)\n",
        "sns.barplot(train, x='CryoSleep', y='Amenities_Usage', ax=ax2)"
      ]
    },
    {
      "cell_type": "code",
      "execution_count": 209,
      "id": "d949e097",
      "metadata": {},
      "outputs": [
        {
          "name": "stdout",
          "output_type": "stream",
          "text": [
            "<class 'pandas.core.frame.DataFrame'>\n",
            "RangeIndex: 8693 entries, 0 to 8692\n",
            "Data columns (total 13 columns):\n",
            " #   Column           Non-Null Count  Dtype  \n",
            "---  ------           --------------  -----  \n",
            " 0   PassengerId      8693 non-null   object \n",
            " 1   HomePlanet       8492 non-null   object \n",
            " 2   CryoSleep        8692 non-null   object \n",
            " 3   Destination      8511 non-null   object \n",
            " 4   Age              8514 non-null   float64\n",
            " 5   VIP              8692 non-null   object \n",
            " 6   Transported      8693 non-null   bool   \n",
            " 7   Cabin_deck       8494 non-null   object \n",
            " 8   Group            8693 non-null   object \n",
            " 9   Group_Num        8693 non-null   int64  \n",
            " 10  Middle_group     8693 non-null   int64  \n",
            " 11  Total_Amenities  8693 non-null   float64\n",
            " 12  Amenities_Usage  8693 non-null   int64  \n",
            "dtypes: bool(1), float64(2), int64(3), object(7)\n",
            "memory usage: 823.6+ KB\n"
          ]
        }
      ],
      "source": [
        "def fill_vip_crypsleep(row):\n",
        "    if pd.notnull(row['CryoSleep']) and pd.notnull(row['Total_Amenities']):\n",
        "        return row\n",
        "    # Amenities  아예 0원\n",
        "    if pd.isnull(row['CryoSleep']) and row['Total_Amenities'] == 0.0:\n",
        "        row['CryoSleep'] = True\n",
        "    # Amenities 거의 사용 안한 사람\n",
        "    if pd.isnull(row['CryoSleep']) and not row['Amenities_Usage']:\n",
        "        row['CryoSleep'] = True\n",
        "\n",
        "    if pd.isnull(row['VIP']):\n",
        "        row['VIP'] = row['CryoSleep']\n",
        "    elif pd.isnull(row['CryoSleep']):\n",
        "        row['CryoSleep'] = row['VIP']\n",
        "    return row\n",
        "train = train.apply(fill_vip_crypsleep, axis=1)\n",
        "train.info()"
      ]
    },
    {
      "cell_type": "markdown",
      "id": "79e2ed4e",
      "metadata": {},
      "source": [
        "##### `HomePlanet & Cabin_deck`"
      ]
    },
    {
      "cell_type": "code",
      "execution_count": 210,
      "id": "dda92773",
      "metadata": {},
      "outputs": [],
      "source": [
        "def fill_HomePlanet_Cabin_by_Group(row):\n",
        "    if pd.notnull(row['HomePlanet']) and pd.notnull(row['Cabin_deck']):\n",
        "        return row\n",
        "\n",
        "    group = row['Group']\n",
        "    group_data = train[train['Group'] == group]\n",
        "    home_mode = group_data['HomePlanet'].mode().values\n",
        "    deck_mode = group_data['Cabin_deck'].mode().values\n",
        "    \n",
        "    if len(home_mode) > 0 and pd.isnull(row['HomePlanet']):\n",
        "        row['HomePlanet'] = home_mode[0]\n",
        "    \n",
        "    if len(deck_mode) > 0 and pd.isnull(row['Cabin_deck']):\n",
        "        row['Cabin_deck'] = deck_mode[0]\n",
        "\n",
        "    return row\n",
        "\n",
        "# apply 함수를 사용하여 결측치를 채움\n",
        "train = train.apply(fill_HomePlanet_Cabin_by_Group, axis=1)"
      ]
    },
    {
      "cell_type": "code",
      "execution_count": 211,
      "id": "1d7f9e7a",
      "metadata": {},
      "outputs": [
        {
          "name": "stdout",
          "output_type": "stream",
          "text": [
            "<class 'pandas.core.frame.DataFrame'>\n",
            "RangeIndex: 8693 entries, 0 to 8692\n",
            "Data columns (total 13 columns):\n",
            " #   Column           Non-Null Count  Dtype  \n",
            "---  ------           --------------  -----  \n",
            " 0   PassengerId      8693 non-null   object \n",
            " 1   HomePlanet       8689 non-null   object \n",
            " 2   CryoSleep        8692 non-null   object \n",
            " 3   Destination      8511 non-null   object \n",
            " 4   Age              8514 non-null   float64\n",
            " 5   VIP              8692 non-null   object \n",
            " 6   Transported      8693 non-null   bool   \n",
            " 7   Cabin_deck       8689 non-null   object \n",
            " 8   Group            8693 non-null   object \n",
            " 9   Group_Num        8693 non-null   int64  \n",
            " 10  Middle_group     8693 non-null   int64  \n",
            " 11  Total_Amenities  8693 non-null   float64\n",
            " 12  Amenities_Usage  8693 non-null   int64  \n",
            "dtypes: bool(1), float64(2), int64(3), object(7)\n",
            "memory usage: 823.6+ KB\n"
          ]
        }
      ],
      "source": [
        "def fill_HomePlanet_Cabin_by_EachOther(row):\n",
        "    home_nan = pd.isnull(row['HomePlanet'])\n",
        "    cabin_nan = pd.isnull(row['Cabin_deck'])\n",
        "\n",
        "    # HomePlanet과 Cabin_deck 모두 NaN인 경우 해당 행을 반환\n",
        "    if home_nan and cabin_nan:\n",
        "        return row\n",
        "\n",
        "    # HomePlanet이 NaN인 경우\n",
        "    if home_nan:\n",
        "        cabin_group = train[train['Cabin_deck'] == row['Cabin_deck']]\n",
        "        mode_cabin = cabin_group['HomePlanet'].mode().values\n",
        "        if len(mode_cabin) > 0:\n",
        "            row['HomePlanet'] = mode_cabin[0]\n",
        "\n",
        "    # Cabin_deck이 NaN인 경우\n",
        "    elif cabin_nan:\n",
        "        home_group = train[train['HomePlanet'] == row['HomePlanet']]\n",
        "        mode_home = home_group['Cabin_deck'].mode().values\n",
        "        if len(mode_home) > 0:\n",
        "            row['Cabin_deck'] = mode_home[0]\n",
        "\n",
        "    return row\n",
        "\n",
        "# apply 함수를 사용하여 결측치를 채움\n",
        "train = train.apply(fill_HomePlanet_Cabin_by_EachOther, axis=1)\n",
        "train.info()"
      ]
    },
    {
      "cell_type": "markdown",
      "id": "edb4ab95",
      "metadata": {},
      "source": [
        "##### `Destination`"
      ]
    },
    {
      "cell_type": "code",
      "execution_count": 212,
      "id": "b16bd323",
      "metadata": {},
      "outputs": [
        {
          "name": "stdout",
          "output_type": "stream",
          "text": [
            "<class 'pandas.core.frame.DataFrame'>\n",
            "RangeIndex: 8693 entries, 0 to 8692\n",
            "Data columns (total 13 columns):\n",
            " #   Column           Non-Null Count  Dtype  \n",
            "---  ------           --------------  -----  \n",
            " 0   PassengerId      8693 non-null   object \n",
            " 1   HomePlanet       8689 non-null   object \n",
            " 2   CryoSleep        8692 non-null   object \n",
            " 3   Destination      8693 non-null   object \n",
            " 4   Age              8514 non-null   float64\n",
            " 5   VIP              8692 non-null   object \n",
            " 6   Transported      8693 non-null   bool   \n",
            " 7   Cabin_deck       8689 non-null   object \n",
            " 8   Group            8693 non-null   object \n",
            " 9   Group_Num        8693 non-null   int64  \n",
            " 10  Middle_group     8693 non-null   int64  \n",
            " 11  Total_Amenities  8693 non-null   float64\n",
            " 12  Amenities_Usage  8693 non-null   int64  \n",
            "dtypes: bool(1), float64(2), int64(3), object(7)\n",
            "memory usage: 823.6+ KB\n"
          ]
        }
      ],
      "source": [
        "def fill_Destination(row):\n",
        "    if pd.notnull(row['Destination']):\n",
        "        return row\n",
        "\n",
        "    group = row['Cabin_deck']\n",
        "    group_data = train[train['Cabin_deck'] == group]\n",
        "    destination_mode = group_data['Destination'].mode().values\n",
        "    \n",
        "    if len(destination_mode) > 0 and pd.isnull(row['Destination']):\n",
        "        row['Destination'] = destination_mode[0]\n",
        "\n",
        "    return row\n",
        "\n",
        "train = train.apply(fill_Destination, axis=1)\n",
        "train.info()"
      ]
    },
    {
      "cell_type": "code",
      "execution_count": 225,
      "id": "f79660c2",
      "metadata": {},
      "outputs": [
        {
          "name": "stdout",
          "output_type": "stream",
          "text": [
            "<class 'pandas.core.frame.DataFrame'>\n",
            "Index: 8688 entries, 0 to 8692\n",
            "Data columns (total 8 columns):\n",
            " #   Column           Non-Null Count  Dtype \n",
            "---  ------           --------------  ----- \n",
            " 0   HomePlanet       8688 non-null   object\n",
            " 1   CryoSleep        8688 non-null   object\n",
            " 2   Destination      8688 non-null   object\n",
            " 3   VIP              8688 non-null   object\n",
            " 4   Transported      8688 non-null   bool  \n",
            " 5   Cabin_deck       8688 non-null   object\n",
            " 6   Middle_group     8688 non-null   int64 \n",
            " 7   Amenities_Usage  8688 non-null   int64 \n",
            "dtypes: bool(1), int64(2), object(5)\n",
            "memory usage: 551.5+ KB\n"
          ]
        }
      ],
      "source": [
        "# 안채워진건 이제는 버리고, 학습에 사용하지 않을 column 삭제\n",
        "train = train.drop(columns=['PassengerId', 'Total_Amenities', 'Group_Num', 'Group', 'Age'])\n",
        "train = train.dropna()\n",
        "train.info()"
      ]
    },
    {
      "cell_type": "markdown",
      "id": "f2c602bd",
      "metadata": {
        "id": "f2c602bd"
      },
      "source": [
        "이런 식으로 여러가지 그래프를 그려가며, 데이터에 대한 인사이트를 얻습니다!"
      ]
    },
    {
      "cell_type": "markdown",
      "id": "9dbb8802",
      "metadata": {
        "id": "9dbb8802"
      },
      "source": [
        "### 3. 전처리"
      ]
    },
    {
      "cell_type": "markdown",
      "id": "b79a6f0a",
      "metadata": {
        "id": "b79a6f0a"
      },
      "source": [
        "#### 결측치 처리"
      ]
    },
    {
      "cell_type": "code",
      "execution_count": 226,
      "id": "7d0f313f",
      "metadata": {},
      "outputs": [
        {
          "data": {
            "text/html": [
              "<div>\n",
              "<style scoped>\n",
              "    .dataframe tbody tr th:only-of-type {\n",
              "        vertical-align: middle;\n",
              "    }\n",
              "\n",
              "    .dataframe tbody tr th {\n",
              "        vertical-align: top;\n",
              "    }\n",
              "\n",
              "    .dataframe thead th {\n",
              "        text-align: right;\n",
              "    }\n",
              "</style>\n",
              "<table border=\"1\" class=\"dataframe\">\n",
              "  <thead>\n",
              "    <tr style=\"text-align: right;\">\n",
              "      <th></th>\n",
              "      <th>HomePlanet</th>\n",
              "      <th>CryoSleep</th>\n",
              "      <th>Destination</th>\n",
              "      <th>VIP</th>\n",
              "      <th>Transported</th>\n",
              "      <th>Cabin_deck</th>\n",
              "      <th>Middle_group</th>\n",
              "      <th>Amenities_Usage</th>\n",
              "    </tr>\n",
              "  </thead>\n",
              "  <tbody>\n",
              "    <tr>\n",
              "      <th>0</th>\n",
              "      <td>Europa</td>\n",
              "      <td>False</td>\n",
              "      <td>TRAPPIST-1e</td>\n",
              "      <td>False</td>\n",
              "      <td>False</td>\n",
              "      <td>B</td>\n",
              "      <td>0</td>\n",
              "      <td>0</td>\n",
              "    </tr>\n",
              "    <tr>\n",
              "      <th>1</th>\n",
              "      <td>Earth</td>\n",
              "      <td>False</td>\n",
              "      <td>TRAPPIST-1e</td>\n",
              "      <td>False</td>\n",
              "      <td>True</td>\n",
              "      <td>F</td>\n",
              "      <td>0</td>\n",
              "      <td>0</td>\n",
              "    </tr>\n",
              "    <tr>\n",
              "      <th>2</th>\n",
              "      <td>Europa</td>\n",
              "      <td>False</td>\n",
              "      <td>TRAPPIST-1e</td>\n",
              "      <td>True</td>\n",
              "      <td>False</td>\n",
              "      <td>A</td>\n",
              "      <td>0</td>\n",
              "      <td>1</td>\n",
              "    </tr>\n",
              "    <tr>\n",
              "      <th>3</th>\n",
              "      <td>Europa</td>\n",
              "      <td>False</td>\n",
              "      <td>TRAPPIST-1e</td>\n",
              "      <td>False</td>\n",
              "      <td>False</td>\n",
              "      <td>A</td>\n",
              "      <td>0</td>\n",
              "      <td>1</td>\n",
              "    </tr>\n",
              "    <tr>\n",
              "      <th>4</th>\n",
              "      <td>Earth</td>\n",
              "      <td>False</td>\n",
              "      <td>TRAPPIST-1e</td>\n",
              "      <td>False</td>\n",
              "      <td>True</td>\n",
              "      <td>F</td>\n",
              "      <td>0</td>\n",
              "      <td>0</td>\n",
              "    </tr>\n",
              "  </tbody>\n",
              "</table>\n",
              "</div>"
            ],
            "text/plain": [
              "  HomePlanet CryoSleep  Destination    VIP  Transported Cabin_deck  \\\n",
              "0     Europa     False  TRAPPIST-1e  False        False          B   \n",
              "1      Earth     False  TRAPPIST-1e  False         True          F   \n",
              "2     Europa     False  TRAPPIST-1e   True        False          A   \n",
              "3     Europa     False  TRAPPIST-1e  False        False          A   \n",
              "4      Earth     False  TRAPPIST-1e  False         True          F   \n",
              "\n",
              "   Middle_group  Amenities_Usage  \n",
              "0             0                0  \n",
              "1             0                0  \n",
              "2             0                1  \n",
              "3             0                1  \n",
              "4             0                0  "
            ]
          },
          "execution_count": 226,
          "metadata": {},
          "output_type": "execute_result"
        }
      ],
      "source": [
        "train.head()"
      ]
    },
    {
      "cell_type": "code",
      "execution_count": 227,
      "id": "bbafdcd0",
      "metadata": {
        "id": "bbafdcd0"
      },
      "outputs": [],
      "source": [
        "## One-Hot encoding\n",
        "train_OHE = pd.get_dummies(data=train, columns=[\"HomePlanet\", \"Destination\", \"Cabin_deck\"])\n"
      ]
    },
    {
      "cell_type": "code",
      "execution_count": 232,
      "id": "78939cdb",
      "metadata": {},
      "outputs": [
        {
          "name": "stdout",
          "output_type": "stream",
          "text": [
            "<class 'pandas.core.frame.DataFrame'>\n",
            "Index: 8688 entries, 0 to 8692\n",
            "Data columns (total 19 columns):\n",
            " #   Column                     Non-Null Count  Dtype\n",
            "---  ------                     --------------  -----\n",
            " 0   CryoSleep                  8688 non-null   bool \n",
            " 1   VIP                        8688 non-null   bool \n",
            " 2   Transported                8688 non-null   bool \n",
            " 3   Middle_group               8688 non-null   int64\n",
            " 4   Amenities_Usage            8688 non-null   int64\n",
            " 5   HomePlanet_Earth           8688 non-null   bool \n",
            " 6   HomePlanet_Europa          8688 non-null   bool \n",
            " 7   HomePlanet_Mars            8688 non-null   bool \n",
            " 8   Destination_55 Cancri e    8688 non-null   bool \n",
            " 9   Destination_PSO J318.5-22  8688 non-null   bool \n",
            " 10  Destination_TRAPPIST-1e    8688 non-null   bool \n",
            " 11  Cabin_deck_A               8688 non-null   bool \n",
            " 12  Cabin_deck_B               8688 non-null   bool \n",
            " 13  Cabin_deck_C               8688 non-null   bool \n",
            " 14  Cabin_deck_D               8688 non-null   bool \n",
            " 15  Cabin_deck_E               8688 non-null   bool \n",
            " 16  Cabin_deck_F               8688 non-null   bool \n",
            " 17  Cabin_deck_G               8688 non-null   bool \n",
            " 18  Cabin_deck_T               8688 non-null   bool \n",
            "dtypes: bool(17), int64(2)\n",
            "memory usage: 347.9 KB\n"
          ]
        }
      ],
      "source": [
        "train_OHE.CryoSleep = train_OHE.CryoSleep.apply(lambda x: False if x == 'False' else True)\n",
        "train_OHE.VIP = train_OHE.VIP.apply(lambda x: False if x == 'False' else True)\n",
        "train_OHE.info()"
      ]
    },
    {
      "cell_type": "code",
      "execution_count": 233,
      "id": "6c733588",
      "metadata": {},
      "outputs": [
        {
          "data": {
            "text/html": [
              "<div>\n",
              "<style scoped>\n",
              "    .dataframe tbody tr th:only-of-type {\n",
              "        vertical-align: middle;\n",
              "    }\n",
              "\n",
              "    .dataframe tbody tr th {\n",
              "        vertical-align: top;\n",
              "    }\n",
              "\n",
              "    .dataframe thead th {\n",
              "        text-align: right;\n",
              "    }\n",
              "</style>\n",
              "<table border=\"1\" class=\"dataframe\">\n",
              "  <thead>\n",
              "    <tr style=\"text-align: right;\">\n",
              "      <th></th>\n",
              "      <th>CryoSleep</th>\n",
              "      <th>VIP</th>\n",
              "      <th>Transported</th>\n",
              "      <th>Middle_group</th>\n",
              "      <th>Amenities_Usage</th>\n",
              "      <th>HomePlanet_Earth</th>\n",
              "      <th>HomePlanet_Europa</th>\n",
              "      <th>HomePlanet_Mars</th>\n",
              "      <th>Destination_55 Cancri e</th>\n",
              "      <th>Destination_PSO J318.5-22</th>\n",
              "      <th>Destination_TRAPPIST-1e</th>\n",
              "      <th>Cabin_deck_A</th>\n",
              "      <th>Cabin_deck_B</th>\n",
              "      <th>Cabin_deck_C</th>\n",
              "      <th>Cabin_deck_D</th>\n",
              "      <th>Cabin_deck_E</th>\n",
              "      <th>Cabin_deck_F</th>\n",
              "      <th>Cabin_deck_G</th>\n",
              "      <th>Cabin_deck_T</th>\n",
              "    </tr>\n",
              "  </thead>\n",
              "  <tbody>\n",
              "    <tr>\n",
              "      <th>0</th>\n",
              "      <td>True</td>\n",
              "      <td>True</td>\n",
              "      <td>False</td>\n",
              "      <td>0</td>\n",
              "      <td>0</td>\n",
              "      <td>False</td>\n",
              "      <td>True</td>\n",
              "      <td>False</td>\n",
              "      <td>False</td>\n",
              "      <td>False</td>\n",
              "      <td>True</td>\n",
              "      <td>False</td>\n",
              "      <td>True</td>\n",
              "      <td>False</td>\n",
              "      <td>False</td>\n",
              "      <td>False</td>\n",
              "      <td>False</td>\n",
              "      <td>False</td>\n",
              "      <td>False</td>\n",
              "    </tr>\n",
              "    <tr>\n",
              "      <th>1</th>\n",
              "      <td>True</td>\n",
              "      <td>True</td>\n",
              "      <td>True</td>\n",
              "      <td>0</td>\n",
              "      <td>0</td>\n",
              "      <td>True</td>\n",
              "      <td>False</td>\n",
              "      <td>False</td>\n",
              "      <td>False</td>\n",
              "      <td>False</td>\n",
              "      <td>True</td>\n",
              "      <td>False</td>\n",
              "      <td>False</td>\n",
              "      <td>False</td>\n",
              "      <td>False</td>\n",
              "      <td>False</td>\n",
              "      <td>True</td>\n",
              "      <td>False</td>\n",
              "      <td>False</td>\n",
              "    </tr>\n",
              "    <tr>\n",
              "      <th>2</th>\n",
              "      <td>True</td>\n",
              "      <td>True</td>\n",
              "      <td>False</td>\n",
              "      <td>0</td>\n",
              "      <td>1</td>\n",
              "      <td>False</td>\n",
              "      <td>True</td>\n",
              "      <td>False</td>\n",
              "      <td>False</td>\n",
              "      <td>False</td>\n",
              "      <td>True</td>\n",
              "      <td>True</td>\n",
              "      <td>False</td>\n",
              "      <td>False</td>\n",
              "      <td>False</td>\n",
              "      <td>False</td>\n",
              "      <td>False</td>\n",
              "      <td>False</td>\n",
              "      <td>False</td>\n",
              "    </tr>\n",
              "  </tbody>\n",
              "</table>\n",
              "</div>"
            ],
            "text/plain": [
              "   CryoSleep   VIP  Transported  Middle_group  Amenities_Usage  \\\n",
              "0       True  True        False             0                0   \n",
              "1       True  True         True             0                0   \n",
              "2       True  True        False             0                1   \n",
              "\n",
              "   HomePlanet_Earth  HomePlanet_Europa  HomePlanet_Mars  \\\n",
              "0             False               True            False   \n",
              "1              True              False            False   \n",
              "2             False               True            False   \n",
              "\n",
              "   Destination_55 Cancri e  Destination_PSO J318.5-22  \\\n",
              "0                    False                      False   \n",
              "1                    False                      False   \n",
              "2                    False                      False   \n",
              "\n",
              "   Destination_TRAPPIST-1e  Cabin_deck_A  Cabin_deck_B  Cabin_deck_C  \\\n",
              "0                     True         False          True         False   \n",
              "1                     True         False         False         False   \n",
              "2                     True          True         False         False   \n",
              "\n",
              "   Cabin_deck_D  Cabin_deck_E  Cabin_deck_F  Cabin_deck_G  Cabin_deck_T  \n",
              "0         False         False         False         False         False  \n",
              "1         False         False          True         False         False  \n",
              "2         False         False         False         False         False  "
            ]
          },
          "execution_count": 233,
          "metadata": {},
          "output_type": "execute_result"
        }
      ],
      "source": [
        "train_OHE.head(3)"
      ]
    },
    {
      "cell_type": "markdown",
      "id": "f497a2d8",
      "metadata": {
        "id": "f497a2d8"
      },
      "source": [
        "### 4. 학습 데이터 분할"
      ]
    },
    {
      "cell_type": "code",
      "execution_count": 236,
      "id": "47306aaf",
      "metadata": {
        "id": "47306aaf"
      },
      "outputs": [
        {
          "name": "stdout",
          "output_type": "stream",
          "text": [
            "(6950, 18) (6950,) (1738, 18) (1738,)\n"
          ]
        }
      ],
      "source": [
        "#### 아래 train / validation을 고정해주세요!! ####\n",
        "\n",
        "X = train_OHE.drop(columns='Transported') # feature vector\n",
        "y = train_OHE.Transported                 # target value\n",
        "\n",
        "# 트테트테\n",
        "X_train, X_val, y_train, y_val = train_test_split(X, y, test_size=0.2, random_state=42)\n",
        "print(X_train.shape, y_train.shape, X_val.shape, y_val.shape)"
      ]
    },
    {
      "cell_type": "markdown",
      "id": "58056e51",
      "metadata": {
        "id": "58056e51"
      },
      "source": [
        "### 5. 학습 및 평가"
      ]
    },
    {
      "cell_type": "code",
      "execution_count": 241,
      "id": "39fd2515",
      "metadata": {
        "id": "39fd2515"
      },
      "outputs": [
        {
          "data": {
            "text/html": [
              "<style>#sk-container-id-3 {color: black;}#sk-container-id-3 pre{padding: 0;}#sk-container-id-3 div.sk-toggleable {background-color: white;}#sk-container-id-3 label.sk-toggleable__label {cursor: pointer;display: block;width: 100%;margin-bottom: 0;padding: 0.3em;box-sizing: border-box;text-align: center;}#sk-container-id-3 label.sk-toggleable__label-arrow:before {content: \"▸\";float: left;margin-right: 0.25em;color: #696969;}#sk-container-id-3 label.sk-toggleable__label-arrow:hover:before {color: black;}#sk-container-id-3 div.sk-estimator:hover label.sk-toggleable__label-arrow:before {color: black;}#sk-container-id-3 div.sk-toggleable__content {max-height: 0;max-width: 0;overflow: hidden;text-align: left;background-color: #f0f8ff;}#sk-container-id-3 div.sk-toggleable__content pre {margin: 0.2em;color: black;border-radius: 0.25em;background-color: #f0f8ff;}#sk-container-id-3 input.sk-toggleable__control:checked~div.sk-toggleable__content {max-height: 200px;max-width: 100%;overflow: auto;}#sk-container-id-3 input.sk-toggleable__control:checked~label.sk-toggleable__label-arrow:before {content: \"▾\";}#sk-container-id-3 div.sk-estimator input.sk-toggleable__control:checked~label.sk-toggleable__label {background-color: #d4ebff;}#sk-container-id-3 div.sk-label input.sk-toggleable__control:checked~label.sk-toggleable__label {background-color: #d4ebff;}#sk-container-id-3 input.sk-hidden--visually {border: 0;clip: rect(1px 1px 1px 1px);clip: rect(1px, 1px, 1px, 1px);height: 1px;margin: -1px;overflow: hidden;padding: 0;position: absolute;width: 1px;}#sk-container-id-3 div.sk-estimator {font-family: monospace;background-color: #f0f8ff;border: 1px dotted black;border-radius: 0.25em;box-sizing: border-box;margin-bottom: 0.5em;}#sk-container-id-3 div.sk-estimator:hover {background-color: #d4ebff;}#sk-container-id-3 div.sk-parallel-item::after {content: \"\";width: 100%;border-bottom: 1px solid gray;flex-grow: 1;}#sk-container-id-3 div.sk-label:hover label.sk-toggleable__label {background-color: #d4ebff;}#sk-container-id-3 div.sk-serial::before {content: \"\";position: absolute;border-left: 1px solid gray;box-sizing: border-box;top: 0;bottom: 0;left: 50%;z-index: 0;}#sk-container-id-3 div.sk-serial {display: flex;flex-direction: column;align-items: center;background-color: white;padding-right: 0.2em;padding-left: 0.2em;position: relative;}#sk-container-id-3 div.sk-item {position: relative;z-index: 1;}#sk-container-id-3 div.sk-parallel {display: flex;align-items: stretch;justify-content: center;background-color: white;position: relative;}#sk-container-id-3 div.sk-item::before, #sk-container-id-3 div.sk-parallel-item::before {content: \"\";position: absolute;border-left: 1px solid gray;box-sizing: border-box;top: 0;bottom: 0;left: 50%;z-index: -1;}#sk-container-id-3 div.sk-parallel-item {display: flex;flex-direction: column;z-index: 1;position: relative;background-color: white;}#sk-container-id-3 div.sk-parallel-item:first-child::after {align-self: flex-end;width: 50%;}#sk-container-id-3 div.sk-parallel-item:last-child::after {align-self: flex-start;width: 50%;}#sk-container-id-3 div.sk-parallel-item:only-child::after {width: 0;}#sk-container-id-3 div.sk-dashed-wrapped {border: 1px dashed gray;margin: 0 0.4em 0.5em 0.4em;box-sizing: border-box;padding-bottom: 0.4em;background-color: white;}#sk-container-id-3 div.sk-label label {font-family: monospace;font-weight: bold;display: inline-block;line-height: 1.2em;}#sk-container-id-3 div.sk-label-container {text-align: center;}#sk-container-id-3 div.sk-container {/* jupyter's `normalize.less` sets `[hidden] { display: none; }` but bootstrap.min.css set `[hidden] { display: none !important; }` so we also need the `!important` here to be able to override the default hidden behavior on the sphinx rendered scikit-learn.org. See: https://github.com/scikit-learn/scikit-learn/issues/21755 */display: inline-block !important;position: relative;}#sk-container-id-3 div.sk-text-repr-fallback {display: none;}</style><div id=\"sk-container-id-3\" class=\"sk-top-container\"><div class=\"sk-text-repr-fallback\"><pre>XGBClassifier(base_score=None, booster=None, callbacks=None,\n",
              "              colsample_bylevel=None, colsample_bynode=0.8,\n",
              "              colsample_bytree=None, device=None, early_stopping_rounds=None,\n",
              "              enable_categorical=False, eval_metric=None, feature_types=None,\n",
              "              gamma=None, grow_policy=None, importance_type=None,\n",
              "              interaction_constraints=None, learning_rate=0.1, max_bin=None,\n",
              "              max_cat_threshold=None, max_cat_to_onehot=None,\n",
              "              max_delta_step=None, max_depth=10, max_leaves=None,\n",
              "              min_child_weight=None, missing=nan, monotone_constraints=None,\n",
              "              multi_strategy=None, n_estimators=100, n_jobs=None,\n",
              "              num_parallel_tree=None, random_state=42, ...)</pre><b>In a Jupyter environment, please rerun this cell to show the HTML representation or trust the notebook. <br />On GitHub, the HTML representation is unable to render, please try loading this page with nbviewer.org.</b></div><div class=\"sk-container\" hidden><div class=\"sk-item\"><div class=\"sk-estimator sk-toggleable\"><input class=\"sk-toggleable__control sk-hidden--visually\" id=\"sk-estimator-id-3\" type=\"checkbox\" checked><label for=\"sk-estimator-id-3\" class=\"sk-toggleable__label sk-toggleable__label-arrow\">XGBClassifier</label><div class=\"sk-toggleable__content\"><pre>XGBClassifier(base_score=None, booster=None, callbacks=None,\n",
              "              colsample_bylevel=None, colsample_bynode=0.8,\n",
              "              colsample_bytree=None, device=None, early_stopping_rounds=None,\n",
              "              enable_categorical=False, eval_metric=None, feature_types=None,\n",
              "              gamma=None, grow_policy=None, importance_type=None,\n",
              "              interaction_constraints=None, learning_rate=0.1, max_bin=None,\n",
              "              max_cat_threshold=None, max_cat_to_onehot=None,\n",
              "              max_delta_step=None, max_depth=10, max_leaves=None,\n",
              "              min_child_weight=None, missing=nan, monotone_constraints=None,\n",
              "              multi_strategy=None, n_estimators=100, n_jobs=None,\n",
              "              num_parallel_tree=None, random_state=42, ...)</pre></div></div></div></div></div>"
            ],
            "text/plain": [
              "XGBClassifier(base_score=None, booster=None, callbacks=None,\n",
              "              colsample_bylevel=None, colsample_bynode=0.8,\n",
              "              colsample_bytree=None, device=None, early_stopping_rounds=None,\n",
              "              enable_categorical=False, eval_metric=None, feature_types=None,\n",
              "              gamma=None, grow_policy=None, importance_type=None,\n",
              "              interaction_constraints=None, learning_rate=0.1, max_bin=None,\n",
              "              max_cat_threshold=None, max_cat_to_onehot=None,\n",
              "              max_delta_step=None, max_depth=10, max_leaves=None,\n",
              "              min_child_weight=None, missing=nan, monotone_constraints=None,\n",
              "              multi_strategy=None, n_estimators=100, n_jobs=None,\n",
              "              num_parallel_tree=None, random_state=42, ...)"
            ]
          },
          "execution_count": 241,
          "metadata": {},
          "output_type": "execute_result"
        }
      ],
      "source": [
        "### 9. XGBClassifier를 학습해보세요. hyper-parameter는 자유롭게 넣어주세요.\n",
        "model = XGBClassifier(\n",
        "    max_depth = 10,\n",
        "    reg_lambda = 3,\n",
        "    tree_method = 'exact',\n",
        "    n_estimators = 100,\n",
        "    learning_rate = 0.1,\n",
        "    colsample_bynode = 0.8,\n",
        "    random_state = 42,\n",
        ")\n",
        "model.fit(X_train, y_train)"
      ]
    },
    {
      "cell_type": "code",
      "execution_count": 242,
      "id": "a6b39be5",
      "metadata": {
        "id": "a6b39be5"
      },
      "outputs": [
        {
          "name": "stdout",
          "output_type": "stream",
          "text": [
            "Prediction\n",
            "Train Score : 0.6799\n",
            "Validation Score : 0.6680\n"
          ]
        }
      ],
      "source": [
        "print(\"Prediction\")\n",
        "pred_train = model.predict(X_train)\n",
        "pred_val = model.predict(X_val)\n",
        "\n",
        "train_score = accuracy_score(y_train, pred_train)\n",
        "val_score = accuracy_score(y_val, pred_val)\n",
        "\n",
        "print(\"Train Score : %.4f\" % train_score)\n",
        "print(\"Validation Score : %.4f\" % val_score)"
      ]
    },
    {
      "cell_type": "markdown",
      "id": "4cb5db2d",
      "metadata": {},
      "source": [
        "- Amenity를 다 더해서 나누는 건 좀 그럣나"
      ]
    },
    {
      "cell_type": "markdown",
      "id": "bc755b17",
      "metadata": {
        "id": "bc755b17"
      },
      "source": [
        "### 6. Hyper-parameter Tuning\n",
        "\n",
        " - 이 링크를 참고하세요. https://xgboost.readthedocs.io/en/stable/parameter.html\n",
        "\n",
        " - 이 링크도 참고하세요. https://scikit-learn.org/stable/modules/generated/sklearn.model_selection.GridSearchCV.html"
      ]
    },
    {
      "cell_type": "code",
      "execution_count": null,
      "id": "815dcbef",
      "metadata": {
        "id": "815dcbef",
        "scrolled": true
      },
      "outputs": [],
      "source": [
        "from sklearn.model_selection import GridSearchCV\n",
        "\n",
        "### 10. GridSearchCV 함수를 공부해서, 아래 param_grid를 채워넣고 검증 성능이 높은 hyper-parameter 조합을 찾아보세요.\n",
        "\n",
        "param_grid = {\n",
        "    'n_estimators' : [],\n",
        "    'max_depth' : [],\n",
        "    'colsample_bynode' : [],\n",
        "    'learning_rate' : [],\n",
        "    'reg_lambda' : [],\n",
        "    'random_state' : [42]\n",
        "} # 3 x 2 x 2 x 2 x 2 = 48개.\n",
        "\n",
        "gcv = GridSearchCV(estimator=XGBClassifier(), param_grid=param_grid, cv=5, verbose=1)\n",
        "\n",
        "gcv.fit(X_train, y_train)\n",
        "print(\"Best Estimator : \", gcv.best_estimator_)"
      ]
    },
    {
      "cell_type": "code",
      "execution_count": null,
      "id": "9ec6ac14",
      "metadata": {
        "id": "9ec6ac14"
      },
      "outputs": [],
      "source": [
        "print(\"Prediction with Best Estimator\")\n",
        "gcv_pred_train = gcv.predict(X_train)\n",
        "gcv_pred_val = gcv.predict(X_val)\n",
        "\n",
        "gcv_train_score = accuracy_score(y_train, gcv_pred_train)\n",
        "gcv_val_score = accuracy_score(y_val, gcv_pred_val)\n",
        "\n",
        "print(\"Train ACC Score : %.4f\" % gcv_train_score)\n",
        "print(\"Validation ACC Score : %.4f\" % gcv_val_score)"
      ]
    },
    {
      "cell_type": "code",
      "execution_count": null,
      "id": "NDb2XLDJCUtf",
      "metadata": {
        "id": "NDb2XLDJCUtf"
      },
      "outputs": [],
      "source": []
    }
  ],
  "metadata": {
    "colab": {
      "provenance": []
    },
    "kernelspec": {
      "display_name": "Python 3",
      "name": "python3"
    },
    "language_info": {
      "codemirror_mode": {
        "name": "ipython",
        "version": 3
      },
      "file_extension": ".py",
      "mimetype": "text/x-python",
      "name": "python",
      "nbconvert_exporter": "python",
      "pygments_lexer": "ipython3",
      "version": "3.11.5"
    }
  },
  "nbformat": 4,
  "nbformat_minor": 5
}
